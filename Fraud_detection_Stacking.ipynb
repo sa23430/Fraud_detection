{
 "cells": [
  {
   "cell_type": "markdown",
   "metadata": {
    "id": "6FZN2Hpqx78-"
   },
   "source": [
    "### The Packages"
   ]
  },
  {
   "cell_type": "code",
   "execution_count": 1,
   "metadata": {
    "executionInfo": {
     "elapsed": 2415,
     "status": "ok",
     "timestamp": 1607396871021,
     "user": {
      "displayName": "Yvonne Wu",
      "photoUrl": "",
      "userId": "01020686261312080072"
     },
     "user_tz": 480
    },
    "id": "MDgWLv_yxqy3"
   },
   "outputs": [],
   "source": [
    "# Base packages\n",
    "import pandas as pd\n",
    "import numpy as np\n",
    "import warnings; warnings.simplefilter('ignore')\n",
    "import timeit\n",
    "\n",
    "# Plotting\n",
    "import matplotlib.pyplot as plt\n",
    "import seaborn as sns\n",
    "\n",
    "# Pre-processing\n",
    "from sklearn.pipeline import Pipeline\n",
    "from sklearn.preprocessing import StandardScaler\n",
    "from sklearn.preprocessing import RobustScaler\n",
    "from sklearn.impute import SimpleImputer\n",
    "from sklearn.model_selection import train_test_split\n",
    "from imblearn.over_sampling import SMOTE  \n",
    "\n",
    "# Modeling\n",
    "from sklearn.ensemble import RandomForestClassifier\n",
    "from sklearn.ensemble import AdaBoostClassifier\n",
    "from sklearn.ensemble import GradientBoostingClassifier\n",
    "import xgboost as xgb\n",
    "from sklearn.svm import LinearSVC\n",
    "from sklearn.svm import SVC\n",
    "\n",
    "# Parameterization\n",
    "from sklearn.model_selection import GridSearchCV\n",
    "from sklearn.model_selection import RandomizedSearchCV\n",
    "\n",
    "# Evaluation\n",
    "from sklearn.metrics import roc_auc_score, confusion_matrix, classification_report, roc_curve, auc"
   ]
  },
  {
   "cell_type": "markdown",
   "metadata": {
    "id": "ZopsgvT7x4jv"
   },
   "source": [
    "### The data"
   ]
  },
  {
   "cell_type": "code",
   "execution_count": 2,
   "metadata": {
    "colab": {
     "base_uri": "https://localhost:8080/"
    },
    "executionInfo": {
     "elapsed": 30690,
     "status": "ok",
     "timestamp": 1607396899344,
     "user": {
      "displayName": "Yvonne Wu",
      "photoUrl": "",
      "userId": "01020686261312080072"
     },
     "user_tz": 480
    },
    "id": "IXHLMi1N2UOb",
    "outputId": "6a42a529-3c38-48f1-e2a9-217ac2b73579"
   },
   "outputs": [
    {
     "name": "stdout",
     "output_type": "stream",
     "text": [
      "Mounted at /content/drive\n"
     ]
    }
   ],
   "source": [
    "df = pd.read_csv('C:/Users/p_adu/Desktop/creditcard.csv')"
   ]
  },
  {
   "cell_type": "code",
   "execution_count": 3,
   "metadata": {
    "executionInfo": {
     "elapsed": 6017,
     "status": "ok",
     "timestamp": 1607396906823,
     "user": {
      "displayName": "Yvonne Wu",
      "photoUrl": "",
      "userId": "01020686261312080072"
     },
     "user_tz": 480
    },
    "id": "-c9RdZiiyCl_"
   },
   "outputs": [],
   "source": [
    "def time(sec):\n",
    "    day = sec // 86400 + 1\n",
    "    if day <= 1:\n",
    "        return round((sec / 60 / 60),2)\n",
    "    else:\n",
    "        return round(((sec - (24*60*60*(day-1))) / 60 / 60),2)\n",
    "\n",
    "df['Time'] = df.apply(lambda row: time(row['Time']), axis=1)"
   ]
  },
  {
   "cell_type": "code",
   "execution_count": 4,
   "metadata": {
    "colab": {
     "base_uri": "https://localhost:8080/"
    },
    "executionInfo": {
     "elapsed": 5166,
     "status": "ok",
     "timestamp": 1607396906826,
     "user": {
      "displayName": "Yvonne Wu",
      "photoUrl": "",
      "userId": "01020686261312080072"
     },
     "user_tz": 480
    },
    "id": "6kyg7ekryCon",
    "outputId": "166d12e3-fdf9-410e-f44d-406c629fd0da"
   },
   "outputs": [
    {
     "name": "stdout",
     "output_type": "stream",
     "text": [
      "(284807, 30)\n",
      "(284807, 1)\n"
     ]
    }
   ],
   "source": [
    "X = df.loc[:, df.columns != 'Class']\n",
    "y = df.loc[:,'Class']\n",
    "y = y.to_numpy().reshape(y.shape[0],1)\n",
    "print(X.shape)\n",
    "print(y.shape)"
   ]
  },
  {
   "cell_type": "markdown",
   "metadata": {
    "id": "oOsskkakyOuv"
   },
   "source": [
    "### Split Train and Test, Scale"
   ]
  },
  {
   "cell_type": "code",
   "execution_count": 5,
   "metadata": {
    "colab": {
     "base_uri": "https://localhost:8080/"
    },
    "executionInfo": {
     "elapsed": 2214,
     "status": "ok",
     "timestamp": 1607396907135,
     "user": {
      "displayName": "Yvonne Wu",
      "photoUrl": "",
      "userId": "01020686261312080072"
     },
     "user_tz": 480
    },
    "id": "e4hKzkQ9yOZH",
    "outputId": "fc9c7979-0db0-436d-cc7c-191df82f2399"
   },
   "outputs": [
    {
     "name": "stdout",
     "output_type": "stream",
     "text": [
      "(170884, 30)\n",
      "(113923, 30)\n"
     ]
    }
   ],
   "source": [
    "X_train_ori, X_test_ori, y_train, y_test = train_test_split(\n",
    "    X, y, test_size=0.4, random_state=1)\n",
    "\n",
    "### SCALING DATA ####\n",
    "scaler = RobustScaler()\n",
    "scaler.fit(X_train_ori)\n",
    "\n",
    "X_train = scaler.transform(X_train_ori)\n",
    "X_test  = scaler.transform(X_test_ori)\n",
    "\n",
    "X_train = pd.DataFrame(X_train,columns=X.columns)\n",
    "X_test  = pd.DataFrame(X_test,columns =X.columns)\n",
    "\n",
    "print(X_train.shape)\n",
    "print(X_test.shape)"
   ]
  },
  {
   "cell_type": "markdown",
   "metadata": {
    "id": "qEDBjC1Mylpu"
   },
   "source": [
    "#### Split test to test1/test2 for stacking"
   ]
  },
  {
   "cell_type": "markdown",
   "metadata": {
    "id": "T8EVoc1i2RLS"
   },
   "source": [
    "##### X_test1, y_test1 for non-smote stacking, X_test2, y_test2 for test"
   ]
  },
  {
   "cell_type": "code",
   "execution_count": 6,
   "metadata": {
    "executionInfo": {
     "elapsed": 2449,
     "status": "ok",
     "timestamp": 1607396907376,
     "user": {
      "displayName": "Yvonne Wu",
      "photoUrl": "",
      "userId": "01020686261312080072"
     },
     "user_tz": 480
    },
    "id": "wY5v5oi7yj8d"
   },
   "outputs": [],
   "source": [
    "X_test1_ori, X_test2_ori, y_test1, y_test2 = train_test_split(\n",
    "    X_test, y_test, test_size=0.5, random_state=1)\n",
    "\n",
    "### SCALING DATA ####\n",
    "scaler = RobustScaler()\n",
    "scaler.fit(X_test1_ori)\n",
    "\n",
    "X_test1 = scaler.transform(X_test1_ori)\n",
    "X_test2 = scaler.transform(X_test2_ori)\n",
    "\n",
    "X_test1 = pd.DataFrame(X_test1,columns=X.columns)\n",
    "X_test2 = pd.DataFrame(X_test2,columns=X.columns)"
   ]
  },
  {
   "cell_type": "markdown",
   "metadata": {
    "id": "pIF2_py1yz0u"
   },
   "source": [
    "### Smote"
   ]
  },
  {
   "cell_type": "markdown",
   "metadata": {
    "id": "s9xc9AlQzef-"
   },
   "source": [
    "### Train Smote for estimators"
   ]
  },
  {
   "cell_type": "markdown",
   "metadata": {
    "id": "E9aoF-UoZTB4"
   },
   "source": [
    "##### X_train_smote, y_train_res"
   ]
  },
  {
   "cell_type": "code",
   "execution_count": 7,
   "metadata": {
    "colab": {
     "base_uri": "https://localhost:8080/"
    },
    "executionInfo": {
     "elapsed": 2654,
     "status": "ok",
     "timestamp": 1607396909574,
     "user": {
      "displayName": "Yvonne Wu",
      "photoUrl": "",
      "userId": "01020686261312080072"
     },
     "user_tz": 480
    },
    "id": "Z9NpJwX3yCre",
    "outputId": "427fa975-56d4-4e6c-bef5-933f49da586d"
   },
   "outputs": [
    {
     "name": "stdout",
     "output_type": "stream",
     "text": [
      "SMOTE X_train shape: (341156, 30)\n",
      "SMOTE y_train shape: (341156,)\n",
      "(341156, 30)\n"
     ]
    }
   ],
   "source": [
    "k=1 # choosing number of minority classes\n",
    "method = SMOTE(k_neighbors=k, sampling_strategy='auto', random_state = 1)\n",
    "\n",
    "X_train_res, y_train_res = method.fit_sample(X_train_ori, y_train)\n",
    "\n",
    "print(\"SMOTE X_train shape: {}\".format(X_train_res.shape))\n",
    "print(\"SMOTE y_train shape: {}\".format(y_train_res.shape))\n",
    "\n",
    "### Scaling SMOTE train data as well ####\n",
    "scaler = RobustScaler()\n",
    "scaler.fit(X_train_res)\n",
    "\n",
    "X_train_smote = scaler.transform(X_train_res)\n",
    "X_train_smote = pd.DataFrame(X_train_smote,columns=X.columns)\n",
    "\n",
    "print(X_train_smote.shape)"
   ]
  },
  {
   "cell_type": "markdown",
   "metadata": {
    "id": "xP1KdtGUzg3g"
   },
   "source": [
    "### Test1 Smote for stacking"
   ]
  },
  {
   "cell_type": "markdown",
   "metadata": {
    "id": "cRcn7nPb2hvf"
   },
   "source": [
    "#### X_test1_smote, y_test1_res for smote, stacking"
   ]
  },
  {
   "cell_type": "code",
   "execution_count": 8,
   "metadata": {
    "colab": {
     "base_uri": "https://localhost:8080/"
    },
    "executionInfo": {
     "elapsed": 1585,
     "status": "ok",
     "timestamp": 1607396910038,
     "user": {
      "displayName": "Yvonne Wu",
      "photoUrl": "",
      "userId": "01020686261312080072"
     },
     "user_tz": 480
    },
    "id": "9fNQoxs9yC6N",
    "outputId": "c7907c4b-097b-4e13-d9a2-26398934b525"
   },
   "outputs": [
    {
     "name": "stdout",
     "output_type": "stream",
     "text": [
      "SMOTE X_train shape: (113746, 30)\n",
      "SMOTE y_train shape: (113746,)\n",
      "(113746, 30)\n"
     ]
    }
   ],
   "source": [
    "k=1 # choosing number of minority classes\n",
    "method = SMOTE(k_neighbors=k, sampling_strategy='auto', random_state = 1)\n",
    "\n",
    "X_test1_res, y_test1_res = method.fit_sample(X_test1_ori, y_test1)\n",
    "\n",
    "print(\"SMOTE X_train shape: {}\".format(X_test1_res.shape))\n",
    "print(\"SMOTE y_train shape: {}\".format(y_test1_res.shape))\n",
    "\n",
    "### Scaling SMOTE train data as well ####\n",
    "scaler = RobustScaler()\n",
    "scaler.fit(X_test1_res)\n",
    "\n",
    "X_test1_smote = scaler.transform(X_test1_res)\n",
    "X_test1_smote = pd.DataFrame(X_test1_smote,columns=X.columns)\n",
    "\n",
    "print(X_test1_smote.shape)"
   ]
  },
  {
   "cell_type": "markdown",
   "metadata": {
    "id": "LuZmbf8O0IOu"
   },
   "source": [
    "### Time Function"
   ]
  },
  {
   "cell_type": "code",
   "execution_count": 9,
   "metadata": {
    "colab": {
     "base_uri": "https://localhost:8080/"
    },
    "executionInfo": {
     "elapsed": 310,
     "status": "ok",
     "timestamp": 1607396910246,
     "user": {
      "displayName": "Yvonne Wu",
      "photoUrl": "",
      "userId": "01020686261312080072"
     },
     "user_tz": 480
    },
    "id": "oYBW0qrZ0SDg",
    "outputId": "2601ad7d-d5d3-4e0c-eaa1-74a5fa733e71"
   },
   "outputs": [
    {
     "name": "stdout",
     "output_type": "stream",
     "text": [
      "--- 2.6702880859375e-05 seconds ---\n"
     ]
    }
   ],
   "source": [
    "import time\n",
    "start_time = time.time()\n",
    "print(\"--- %s seconds ---\" % (time.time() - start_time))"
   ]
  },
  {
   "cell_type": "code",
   "execution_count": 10,
   "metadata": {
    "executionInfo": {
     "elapsed": 495,
     "status": "ok",
     "timestamp": 1607396910436,
     "user": {
      "displayName": "Yvonne Wu",
      "photoUrl": "",
      "userId": "01020686261312080072"
     },
     "user_tz": 480
    },
    "id": "ti1BUHxH0Hkf"
   },
   "outputs": [],
   "source": [
    "def timer(start_time=None):\n",
    "     if not start_time:\n",
    "        start_time = datetime.now()\n",
    "        print(start_time)\n",
    "        return start_time\n",
    "     elif start_time:\n",
    "        thour, temp_sec = divmod((datetime.now() - start_time).total_seconds(), 3600)\n",
    "        tmin, tsec = divmod(temp_sec, 60)\n",
    "        print('\\n Time taken: %i hours %i minutes and %s seconds.' % (thour, tmin, round(tsec, 2)))"
   ]
  },
  {
   "cell_type": "markdown",
   "metadata": {
    "id": "qXp1VqE60Zb3"
   },
   "source": [
    "### Stacking"
   ]
  },
  {
   "cell_type": "markdown",
   "metadata": {
    "id": "R-9Uo1y60b3e"
   },
   "source": [
    "#### Estimators"
   ]
  },
  {
   "cell_type": "markdown",
   "metadata": {
    "id": "yVxhW1-O0qmO"
   },
   "source": [
    "##### XGBClassifier"
   ]
  },
  {
   "cell_type": "code",
   "execution_count": 11,
   "metadata": {
    "executionInfo": {
     "elapsed": 423,
     "status": "ok",
     "timestamp": 1607396914356,
     "user": {
      "displayName": "Yvonne Wu",
      "photoUrl": "",
      "userId": "01020686261312080072"
     },
     "user_tz": 480
    },
    "id": "dEUh7pto0efn"
   },
   "outputs": [],
   "source": [
    "from xgboost import XGBClassifier\n",
    "from numpy import nan\n",
    "# RandomSearch_XGB_best_estimator= XGBClassifier(base_score=0.5, booster='gbtree', colsample_bylevel=1,\n",
    "#               colsample_bynode=1, colsample_bytree=1, gamma=0.0, gpu_id=-1,\n",
    "#               importance_type='gain', interaction_constraints='',\n",
    "#               learning_rate=1.0, max_delta_step=0, max_depth=1,\n",
    "#               min_child_weight=1, missing=nan, monotone_constraints='()',\n",
    "#               n_estimators=450, n_jobs=0, num_parallel_tree=1, random_state=0,\n",
    "#               reg_alpha=0, reg_lambda=1, scale_pos_weight=1, subsample=1,\n",
    "#               tree_method='exact', validate_parameters=1, verbosity=1)\n",
    "RandomSearch_XGB_best_estimator= XGBClassifier(gamma=0.0,\n",
    "              learning_rate=1.0, max_delta_step=0, max_depth=1,\n",
    "              n_estimators=450, n_jobs=8, random_state=0, verbosity=1)"
   ]
  },
  {
   "cell_type": "markdown",
   "metadata": {
    "id": "AmGAlaMF0vVM"
   },
   "source": [
    "##### XGB Classifier, Smote"
   ]
  },
  {
   "cell_type": "code",
   "execution_count": 12,
   "metadata": {
    "executionInfo": {
     "elapsed": 663,
     "status": "ok",
     "timestamp": 1607396914607,
     "user": {
      "displayName": "Yvonne Wu",
      "photoUrl": "",
      "userId": "01020686261312080072"
     },
     "user_tz": 480
    },
    "id": "DbWmnXEz0eiH"
   },
   "outputs": [],
   "source": [
    "from xgboost import XGBClassifier\n",
    "from numpy import nan\n",
    "# RandomSearch_XGB_smote_best_estimator= XGBClassifier(base_score=0.5, booster='gbtree', colsample_bylevel=1,\n",
    "#               colsample_bynode=1, colsample_bytree=1, gamma=0.0, gpu_id=-1,\n",
    "#               importance_type='gain', interaction_constraints='',\n",
    "#               learning_rate=1.0, max_delta_step=0, max_depth=2,\n",
    "#               min_child_weight=1, missing=nan, monotone_constraints='()',\n",
    "#               n_estimators=450, n_jobs=0, num_parallel_tree=1, random_state=0,\n",
    "#               reg_alpha=0, reg_lambda=1, scale_pos_weight=1, subsample=1,\n",
    "#               tree_method='exact', validate_parameters=1, verbosity=None)\n",
    "RandomSearch_XGB_smote_best_estimator= XGBClassifier(gamma=0.0, \n",
    "              learning_rate=1.0, max_delta_step=0, max_depth=2,\n",
    "              n_estimators=450, n_jobs=8, random_state=0, verbosity=1)"
   ]
  },
  {
   "cell_type": "markdown",
   "metadata": {
    "id": "q7DtDOpC019o"
   },
   "source": [
    "##### GradientBoosting, AdaBoosting, RandomForest"
   ]
  },
  {
   "cell_type": "code",
   "execution_count": 13,
   "metadata": {
    "executionInfo": {
     "elapsed": 663,
     "status": "ok",
     "timestamp": 1607396914609,
     "user": {
      "displayName": "Yvonne Wu",
      "photoUrl": "",
      "userId": "01020686261312080072"
     },
     "user_tz": 480
    },
    "id": "rC1h3Dtv02NN"
   },
   "outputs": [],
   "source": [
    "from sklearn.ensemble import GradientBoostingClassifier\n",
    "Gra_best_estimator=GradientBoostingClassifier(max_depth=2, n_estimators=400, random_state=1)"
   ]
  },
  {
   "cell_type": "code",
   "execution_count": 14,
   "metadata": {
    "executionInfo": {
     "elapsed": 661,
     "status": "ok",
     "timestamp": 1607396914610,
     "user": {
      "displayName": "Yvonne Wu",
      "photoUrl": "",
      "userId": "01020686261312080072"
     },
     "user_tz": 480
    },
    "id": "Xs4bKVTz0elJ"
   },
   "outputs": [],
   "source": [
    "from sklearn.ensemble import AdaBoostClassifier\n",
    "Ada_best_estimator=AdaBoostClassifier(learning_rate=1.2, n_estimators=400, random_state=1)"
   ]
  },
  {
   "cell_type": "code",
   "execution_count": 15,
   "metadata": {
    "executionInfo": {
     "elapsed": 660,
     "status": "ok",
     "timestamp": 1607396914611,
     "user": {
      "displayName": "Yvonne Wu",
      "photoUrl": "",
      "userId": "01020686261312080072"
     },
     "user_tz": 480
    },
    "id": "vs-aLc_X06fX"
   },
   "outputs": [],
   "source": [
    "from sklearn.ensemble import RandomForestClassifier\n",
    "RFC_best_estimator=RandomForestClassifier(max_depth=6, max_features='sqrt', n_estimators=400, random_state=0)"
   ]
  },
  {
   "cell_type": "markdown",
   "metadata": {
    "id": "a_zEYcpf1JXv"
   },
   "source": [
    "#### Non Smote Classifiers, Non Smote Stacking"
   ]
  },
  {
   "cell_type": "code",
   "execution_count": null,
   "metadata": {
    "id": "yXpGKlGP1zQQ"
   },
   "outputs": [],
   "source": [
    "from sklearn.pipeline import make_pipeline\n",
    "from sklearn.ensemble import RandomForestClassifier\n",
    "from sklearn.svm import LinearSVC\n",
    "estimators = [\n",
    "                ('Logis', LogisticRegression()),\n",
    "                ('XGB', RandomSearch_XGB_best_estimator),\n",
    "                ('Gra_Boost', Gra_best_estimator),\n",
    "                ('Ada_Boost', Ada_best_estimator),\n",
    "                ('RandomForest', RFC_best_estimator)\n",
    "             ]"
   ]
  },
  {
   "cell_type": "code",
   "execution_count": null,
   "metadata": {
    "colab": {
     "base_uri": "https://localhost:8080/"
    },
    "executionInfo": {
     "elapsed": 1664043,
     "status": "ok",
     "timestamp": 1607305100262,
     "user": {
      "displayName": "Yvonne Wu",
      "photoUrl": "",
      "userId": "01020686261312080072"
     },
     "user_tz": 480
    },
    "id": "paCuva5h1MX-",
    "outputId": "c6afc111-6699-4b9f-ae70-1665b4706c4b"
   },
   "outputs": [
    {
     "name": "stdout",
     "output_type": "stream",
     "text": [
      "--- 1663.4523041248322 seconds ---\n"
     ]
    }
   ],
   "source": [
    "import time\n",
    "start_time = time.time()\n",
    "\n",
    "from sklearn.ensemble import StackingClassifier\n",
    "from sklearn.ensemble import RandomForestClassifier\n",
    "\n",
    "ST_RF_test1=StackingClassifier(#cv=3,\n",
    "                   estimators=estimators,\n",
    "                   final_estimator=RandomForestClassifier(),\n",
    "                   n_jobs=8, passthrough=False, stack_method='auto', verbose=10)\n",
    "ST_RF_test1.fit(X_test1, y_test1)\n",
    "\n",
    "print(\"--- %s seconds ---\" % (time.time() - start_time))"
   ]
  },
  {
   "cell_type": "code",
   "execution_count": null,
   "metadata": {
    "id": "ifqy4-YD3ROT"
   },
   "outputs": [],
   "source": [
    "ST_RF_test2_report =classification_report(y_test2,  ST_RF_test1.predict(X_test2),  output_dict=True)"
   ]
  },
  {
   "cell_type": "code",
   "execution_count": null,
   "metadata": {
    "colab": {
     "base_uri": "https://localhost:8080/"
    },
    "executionInfo": {
     "elapsed": 1670954,
     "status": "ok",
     "timestamp": 1607305107191,
     "user": {
      "displayName": "Yvonne Wu",
      "photoUrl": "",
      "userId": "01020686261312080072"
     },
     "user_tz": 480
    },
    "id": "5e3cYWoT3jgI",
    "outputId": "c04fb471-367f-4f12-86fc-230f1a376f14"
   },
   "outputs": [
    {
     "data": {
      "text/plain": [
       "(0.9998768992684299, 0.7244897959183674, 0.8621833475933987)"
      ]
     },
     "execution_count": 39,
     "metadata": {
      "tags": []
     },
     "output_type": "execute_result"
    }
   ],
   "source": [
    "ST_RF_test2_report['0']['recall'], ST_RF_test2_report['1']['recall'], ST_RF_test2_report['macro avg']['recall']"
   ]
  },
  {
   "cell_type": "code",
   "execution_count": null,
   "metadata": {
    "colab": {
     "base_uri": "https://localhost:8080/"
    },
    "executionInfo": {
     "elapsed": 1677354,
     "status": "ok",
     "timestamp": 1607305113599,
     "user": {
      "displayName": "Yvonne Wu",
      "photoUrl": "",
      "userId": "01020686261312080072"
     },
     "user_tz": 480
    },
    "id": "0H6sRlKo1Mam",
    "outputId": "04090dee-3aa6-445e-e4d9-25eef76e3541"
   },
   "outputs": [
    {
     "name": "stdout",
     "output_type": "stream",
     "text": [
      "              precision    recall  f1-score   support\n",
      "\n",
      "           0       1.00      1.00      1.00     56864\n",
      "           1       0.91      0.72      0.81        98\n",
      "\n",
      "    accuracy                           1.00     56962\n",
      "   macro avg       0.95      0.86      0.90     56962\n",
      "weighted avg       1.00      1.00      1.00     56962\n",
      "\n"
     ]
    }
   ],
   "source": [
    "print(classification_report(y_test2,  ST_RF_test1.predict(X_test2)))"
   ]
  },
  {
   "cell_type": "code",
   "execution_count": null,
   "metadata": {
    "id": "fJHN3wy31Mdk"
   },
   "outputs": [],
   "source": [
    "import pickle\n",
    "# now you can save it to a file\n",
    "with open('/content/drive/MyDrive/ST_RF_test1.pkl', 'wb') as f:\n",
    "    pickle.dump(ST_RF_test1, f)"
   ]
  },
  {
   "cell_type": "markdown",
   "metadata": {
    "id": "joMPjF3T4N01"
   },
   "source": [
    "#### Smote Classifiers, Smote Stacking on X_test1_smote"
   ]
  },
  {
   "cell_type": "code",
   "execution_count": null,
   "metadata": {
    "id": "Tv6Qyijy4Nj2"
   },
   "outputs": [],
   "source": [
    "from sklearn.ensemble import RandomForestClassifier\n",
    "from sklearn.linear_model import LogisticRegression\n",
    "estimators_smote = [\n",
    "                ('Logis', LogisticRegression()),\n",
    "                ('XGB', RandomSearch_XGB_smote_best_estimator),\n",
    "                ('Gra_Boost', Gra_best_estimator),\n",
    "                ('Ada_Boost', Ada_best_estimator),\n",
    "                ('RandomForest', RFC_best_estimator)                \n",
    "             ]"
   ]
  },
  {
   "cell_type": "code",
   "execution_count": null,
   "metadata": {
    "colab": {
     "base_uri": "https://localhost:8080/"
    },
    "executionInfo": {
     "elapsed": 5485914,
     "status": "ok",
     "timestamp": 1607308923962,
     "user": {
      "displayName": "Yvonne Wu",
      "photoUrl": "",
      "userId": "01020686261312080072"
     },
     "user_tz": 480
    },
    "id": "rbr3-zL65YkF",
    "outputId": "4e1085f2-4ba2-4a3a-fe1a-e72069b6866e"
   },
   "outputs": [
    {
     "name": "stdout",
     "output_type": "stream",
     "text": [
      "1607305113.890474\n",
      "--- 3809.89963054657 seconds ---\n"
     ]
    }
   ],
   "source": [
    "import time\n",
    "start_time = time.time()\n",
    "print(start_time)\n",
    "\n",
    "from sklearn.ensemble import StackingClassifier\n",
    "from sklearn.ensemble import RandomForestClassifier\n",
    "\n",
    "ST_RF_test1_smote=StackingClassifier(#cv=3,\n",
    "                   estimators=estimators_smote,\n",
    "                   final_estimator=RandomForestClassifier(),\n",
    "                   n_jobs=10, passthrough=False, stack_method='auto', verbose=10)\n",
    "ST_RF_test1_smote.fit(X_test1_smote, y_test1_res)\n",
    "\n",
    "print(\"--- %s seconds ---\" % (time.time() - start_time))"
   ]
  },
  {
   "cell_type": "code",
   "execution_count": null,
   "metadata": {
    "colab": {
     "base_uri": "https://localhost:8080/"
    },
    "executionInfo": {
     "elapsed": 5500690,
     "status": "ok",
     "timestamp": 1607308938747,
     "user": {
      "displayName": "Yvonne Wu",
      "photoUrl": "",
      "userId": "01020686261312080072"
     },
     "user_tz": 480
    },
    "id": "h82rsVol56Ug",
    "outputId": "f4c3bf3a-84d7-4ef3-e636-fffbbd8a3e8a"
   },
   "outputs": [
    {
     "name": "stdout",
     "output_type": "stream",
     "text": [
      "0.9739026449071468 0.7244897959183674 0.8491962204127571\n",
      "              precision    recall  f1-score   support\n",
      "\n",
      "           0       1.00      0.97      0.99     56864\n",
      "           1       0.05      0.72      0.09        98\n",
      "\n",
      "    accuracy                           0.97     56962\n",
      "   macro avg       0.52      0.85      0.54     56962\n",
      "weighted avg       1.00      0.97      0.98     56962\n",
      "\n"
     ]
    }
   ],
   "source": [
    "ST_RF_test2_smote_report =classification_report(y_test2,  ST_RF_test1_smote.predict(X_test2),  output_dict=True)\n",
    "print(ST_RF_test2_smote_report['0']['recall'], ST_RF_test2_smote_report['1']['recall'], ST_RF_test2_smote_report['macro avg']['recall'])\n",
    "print(classification_report(y_test2,  ST_RF_test1_smote.predict(X_test2)))"
   ]
  },
  {
   "cell_type": "code",
   "execution_count": null,
   "metadata": {
    "id": "gwn1wKfs5-E9"
   },
   "outputs": [],
   "source": [
    "import pickle\n",
    "# now you can save it to a file\n",
    "with open('/content/drive/MyDrive/ST_RF_test1_smote.pkl', 'wb') as f:\n",
    "    pickle.dump(ST_RF_test1_smote, f)"
   ]
  },
  {
   "cell_type": "markdown",
   "metadata": {
    "id": "AtaUlMK9hzLZ"
   },
   "source": [
    "#### Stacking Smote, CV3"
   ]
  },
  {
   "cell_type": "code",
   "execution_count": null,
   "metadata": {
    "colab": {
     "base_uri": "https://localhost:8080/"
    },
    "executionInfo": {
     "elapsed": 427,
     "status": "ok",
     "timestamp": 1607311198615,
     "user": {
      "displayName": "Yvonne Wu",
      "photoUrl": "",
      "userId": "01020686261312080072"
     },
     "user_tz": 480
    },
    "id": "zpq7RUT1ipfx",
    "outputId": "23253323-56f6-4472-b9d0-01c5fe53b5d3"
   },
   "outputs": [
    {
     "name": "stdout",
     "output_type": "stream",
     "text": [
      "time: 03:19:58\n"
     ]
    }
   ],
   "source": [
    "from datetime import datetime\n",
    "now = datetime.now() # current date and time\n",
    "time = now.strftime(\"%H:%M:%S\")\n",
    "print(\"time:\", time)"
   ]
  },
  {
   "cell_type": "code",
   "execution_count": null,
   "metadata": {
    "colab": {
     "base_uri": "https://localhost:8080/"
    },
    "executionInfo": {
     "elapsed": 2227093,
     "status": "ok",
     "timestamp": 1607313425297,
     "user": {
      "displayName": "Yvonne Wu",
      "photoUrl": "",
      "userId": "01020686261312080072"
     },
     "user_tz": 480
    },
    "id": "Y9IBACTV5-Hw",
    "outputId": "6697e144-b917-497d-a86d-79672500693f"
   },
   "outputs": [
    {
     "data": {
      "text/plain": [
       "StackingClassifier(cv=3,\n",
       "                   estimators=[('Logis',\n",
       "                                LogisticRegression(C=1.0, class_weight=None,\n",
       "                                                   dual=False,\n",
       "                                                   fit_intercept=True,\n",
       "                                                   intercept_scaling=1,\n",
       "                                                   l1_ratio=None, max_iter=100,\n",
       "                                                   multi_class='auto',\n",
       "                                                   n_jobs=None, penalty='l2',\n",
       "                                                   random_state=None,\n",
       "                                                   solver='lbfgs', tol=0.0001,\n",
       "                                                   verbose=0,\n",
       "                                                   warm_start=False)),\n",
       "                               ('XGB',\n",
       "                                XGBClassifier(base_score=0.5, booster='gbtree',\n",
       "                                              colsample_bylev...\n",
       "                                                          criterion='gini',\n",
       "                                                          max_depth=None,\n",
       "                                                          max_features='auto',\n",
       "                                                          max_leaf_nodes=None,\n",
       "                                                          max_samples=None,\n",
       "                                                          min_impurity_decrease=0.0,\n",
       "                                                          min_impurity_split=None,\n",
       "                                                          min_samples_leaf=1,\n",
       "                                                          min_samples_split=2,\n",
       "                                                          min_weight_fraction_leaf=0.0,\n",
       "                                                          n_estimators=100,\n",
       "                                                          n_jobs=None,\n",
       "                                                          oob_score=False,\n",
       "                                                          random_state=None,\n",
       "                                                          verbose=0,\n",
       "                                                          warm_start=False),\n",
       "                   n_jobs=10, passthrough=False, stack_method='auto',\n",
       "                   verbose=2)"
      ]
     },
     "execution_count": 48,
     "metadata": {
      "tags": []
     },
     "output_type": "execute_result"
    }
   ],
   "source": [
    "from sklearn.ensemble import StackingClassifier\n",
    "from sklearn.ensemble import RandomForestClassifier\n",
    "\n",
    "ST_RF_test1_smote_CV3=StackingClassifier(cv=3,\n",
    "                   estimators=estimators_smote,\n",
    "                   final_estimator=RandomForestClassifier(),\n",
    "                   n_jobs=10, passthrough=False, stack_method='auto', verbose=2)\n",
    "ST_RF_test1_smote_CV3.fit(X_test1_smote, y_test1_res)\n",
    "\n"
   ]
  },
  {
   "cell_type": "code",
   "execution_count": null,
   "metadata": {
    "id": "UrwGhrsoqxY9"
   },
   "outputs": [],
   "source": [
    "#print(\"--- %s seconds ---\" % (time.time() - start_time))\n",
    "\n",
    "import pickle\n",
    "# now you can save it to a file\n",
    "with open('/content/drive/MyDrive/ST_RF_test1_smote_CV3.pkl', 'wb') as f:\n",
    "    pickle.dump(ST_RF_test1_smote_CV3, f)"
   ]
  },
  {
   "cell_type": "code",
   "execution_count": null,
   "metadata": {
    "colab": {
     "base_uri": "https://localhost:8080/"
    },
    "executionInfo": {
     "elapsed": 2242660,
     "status": "ok",
     "timestamp": 1607313440884,
     "user": {
      "displayName": "Yvonne Wu",
      "photoUrl": "",
      "userId": "01020686261312080072"
     },
     "user_tz": 480
    },
    "id": "vxH7iYhVjIeI",
    "outputId": "60aa0bb4-6014-4574-e76e-bfad21a225ac"
   },
   "outputs": [
    {
     "name": "stdout",
     "output_type": "stream",
     "text": [
      "0.9818162633652223 0.6224489795918368 0.8021326214785296\n",
      "              precision    recall  f1-score   support\n",
      "\n",
      "           0       1.00      0.98      0.99     56864\n",
      "           1       0.06      0.62      0.10        98\n",
      "\n",
      "    accuracy                           0.98     56962\n",
      "   macro avg       0.53      0.80      0.55     56962\n",
      "weighted avg       1.00      0.98      0.99     56962\n",
      "\n"
     ]
    }
   ],
   "source": [
    "# Evaluation\n",
    "from sklearn.metrics import roc_auc_score, confusion_matrix, classification_report, roc_curve, auc\n",
    "ST_RF_test2_smote_CV3_report =classification_report(y_test2,  ST_RF_test1_smote_CV3.predict(X_test2),  output_dict=True)\n",
    "print(ST_RF_test2_smote_CV3_report['0']['recall'], ST_RF_test2_smote_CV3_report['1']['recall'], ST_RF_test2_smote_CV3_report['macro avg']['recall'])\n",
    "print(classification_report(y_test2,  ST_RF_test1_smote_CV3.predict(X_test2)))"
   ]
  },
  {
   "cell_type": "markdown",
   "metadata": {
    "id": "FwFTDsN76Er_"
   },
   "source": [
    "Stacking Smote, CV3, selected Classifiers"
   ]
  },
  {
   "cell_type": "code",
   "execution_count": null,
   "metadata": {
    "colab": {
     "base_uri": "https://localhost:8080/"
    },
    "executionInfo": {
     "elapsed": 3077122,
     "status": "ok",
     "timestamp": 1607314275355,
     "user": {
      "displayName": "Yvonne Wu",
      "photoUrl": "",
      "userId": "01020686261312080072"
     },
     "user_tz": 480
    },
    "id": "rMJc8BuH5_x6",
    "outputId": "3028a20c-7e88-4084-b251-afc7533bdb8b"
   },
   "outputs": [
    {
     "name": "stdout",
     "output_type": "stream",
     "text": [
      "1607313440.7481585\n",
      "--- 822.9265942573547 seconds ---\n",
      "0.9727243950478335 0.7142857142857143 0.843505054666774\n",
      "              precision    recall  f1-score   support\n",
      "\n",
      "           0       1.00      0.97      0.99     56864\n",
      "           1       0.04      0.71      0.08        98\n",
      "\n",
      "    accuracy                           0.97     56962\n",
      "   macro avg       0.52      0.84      0.53     56962\n",
      "weighted avg       1.00      0.97      0.98     56962\n",
      "\n"
     ]
    }
   ],
   "source": [
    "from sklearn.ensemble import RandomForestClassifier\n",
    "from sklearn.linear_model import LogisticRegression\n",
    "estimators_smote_selected = [\n",
    "                ('Logis', LogisticRegression()),\n",
    "                ('XGB', RandomSearch_XGB_smote_best_estimator),\n",
    "                #('Gra_Boost', Gra_best_estimator),\n",
    "                ('Ada_Boost', Ada_best_estimator),\n",
    "                #('RandomForest', RFC_best_estimator)                \n",
    "             ]\n",
    "             \n",
    "from sklearn.ensemble import StackingClassifier\n",
    "from sklearn.ensemble import RandomForestClassifier\n",
    "import time\n",
    "\n",
    "start_time = time.time()\n",
    "print(start_time)\n",
    "\n",
    "ST_RF_test1_smote_CV3_selected=StackingClassifier(cv=3,\n",
    "                   estimators=estimators_smote_selected,\n",
    "                   final_estimator=RandomForestClassifier(),\n",
    "                   n_jobs=10, passthrough=False, stack_method='auto', verbose=2)\n",
    "ST_RF_test1_smote_CV3_selected.fit(X_test1_smote, y_test1_res)\n",
    "\n",
    "print(\"--- %s seconds ---\" % (time.time() - start_time))\n",
    "\n",
    "import pickle\n",
    "# now you can save it to a file\n",
    "with open('/content/drive/MyDrive/ST_RF_test1_smote_CV3_selected.pkl', 'wb') as f:\n",
    "    pickle.dump(ST_RF_test1_smote_CV3_selected, f)\n",
    "\n",
    "# Evaluation\n",
    "from sklearn.metrics import roc_auc_score, confusion_matrix, classification_report, roc_curve, auc\n",
    "ST_RF_test2_smote_CV3_selected_report =classification_report(y_test2,  ST_RF_test1_smote_CV3_selected.predict(X_test2),  output_dict=True)\n",
    "print(ST_RF_test2_smote_CV3_selected_report['0']['recall'], ST_RF_test2_smote_CV3_selected_report['1']['recall'], ST_RF_test2_smote_CV3_selected_report['macro avg']['recall'])\n",
    "print(classification_report(y_test2,  ST_RF_test1_smote_CV3_selected.predict(X_test2)))"
   ]
  },
  {
   "cell_type": "markdown",
   "metadata": {
    "id": "-0qQB1lgE_zt"
   },
   "source": [
    "#### Logis, stacking with RandomForestClassifier"
   ]
  },
  {
   "cell_type": "code",
   "execution_count": null,
   "metadata": {
    "colab": {
     "base_uri": "https://localhost:8080/"
    },
    "executionInfo": {
     "elapsed": 3103035,
     "status": "ok",
     "timestamp": 1607314302836,
     "user": {
      "displayName": "Yvonne Wu",
      "photoUrl": "",
      "userId": "01020686261312080072"
     },
     "user_tz": 480
    },
    "id": "pcf4yzd76q66",
    "outputId": "55f4b6a0-cb13-4624-e337-8040d0271d34"
   },
   "outputs": [
    {
     "name": "stdout",
     "output_type": "stream",
     "text": [
      "1607314275.1800094\n",
      "--- 24.70293116569519 seconds ---\n",
      "0.4788618458075408 0.9285714285714286 0.843505054666774\n",
      "              precision    recall  f1-score   support\n",
      "\n",
      "           0       1.00      0.48      0.65     56864\n",
      "           1       0.00      0.93      0.01        98\n",
      "\n",
      "    accuracy                           0.48     56962\n",
      "   macro avg       0.50      0.70      0.33     56962\n",
      "weighted avg       1.00      0.48      0.65     56962\n",
      "\n",
      "              precision    recall  f1-score   support\n",
      "\n",
      "           0       0.97      0.97      0.97     56873\n",
      "           1       0.97      0.97      0.97     56873\n",
      "\n",
      "    accuracy                           0.97    113746\n",
      "   macro avg       0.97      0.97      0.97    113746\n",
      "weighted avg       0.97      0.97      0.97    113746\n",
      "\n",
      "--- 27.476030588150024 seconds ---\n"
     ]
    }
   ],
   "source": [
    "from sklearn.ensemble import RandomForestClassifier\n",
    "from sklearn.linear_model import LogisticRegression\n",
    "estimators_smote_selected = [\n",
    "                ('Logis', LogisticRegression())#,\n",
    "                #('XGB', RandomSearch_XGB_smote_best_estimator),\n",
    "                #('Gra_Boost', Gra_best_estimator),\n",
    "                #('Ada_Boost', Ada_best_estimator),\n",
    "                #('RandomForest', RFC_best_estimator)                \n",
    "             ]\n",
    "             \n",
    "from sklearn.ensemble import StackingClassifier\n",
    "from sklearn.ensemble import RandomForestClassifier\n",
    "import time\n",
    "\n",
    "start_time = time.time()\n",
    "print(start_time)\n",
    "\n",
    "ST_RF_test1_smote_CV3_selected2=StackingClassifier(cv=5,\n",
    "                   estimators=estimators_smote_selected,\n",
    "                   final_estimator=RandomForestClassifier(),\n",
    "                   n_jobs=10, passthrough=False, stack_method='auto', verbose=2)\n",
    "ST_RF_test1_smote_CV3_selected2.fit(X_test1_smote, y_test1_res)\n",
    "print(\"--- %s seconds ---\" % (time.time() - start_time))\n",
    "\n",
    "\n",
    "import pickle\n",
    "# now you can save it to a file\n",
    "with open('/content/drive/MyDrive/ST_RF_test1_smote_CV3_logis_randomForest.pkl', 'wb') as f:\n",
    "    pickle.dump(ST_RF_test1_smote_CV3_selected2, f)\n",
    "\n",
    "\n",
    "# Evaluation\n",
    "from sklearn.metrics import roc_auc_score, confusion_matrix, classification_report, roc_curve, auc\n",
    "ST_RF_test2_smote_CV3_selected2_report =classification_report(y_test2,  ST_RF_test1_smote_CV3_selected2.predict(X_test2),  output_dict=True)\n",
    "print(ST_RF_test2_smote_CV3_selected2_report['0']['recall'], ST_RF_test2_smote_CV3_selected2_report['1']['recall'], ST_RF_test2_smote_CV3_selected_report['macro avg']['recall'])\n",
    "print(classification_report(y_test2,  ST_RF_test1_smote_CV3_selected2.predict(X_test2)))\n",
    "print(classification_report(y_test1_res,  ST_RF_test1_smote_CV3_selected2.predict(X_test1_smote)))\n",
    "print(\"--- %s seconds ---\" % (time.time() - start_time))"
   ]
  },
  {
   "cell_type": "code",
   "execution_count": null,
   "metadata": {
    "colab": {
     "base_uri": "https://localhost:8080/"
    },
    "executionInfo": {
     "elapsed": 3103858,
     "status": "ok",
     "timestamp": 1607314303669,
     "user": {
      "displayName": "Yvonne Wu",
      "photoUrl": "",
      "userId": "01020686261312080072"
     },
     "user_tz": 480
    },
    "id": "rCTCIZSRbP2o",
    "outputId": "574fdad3-6871-4262-d1c1-1c128782ae0e"
   },
   "outputs": [
    {
     "data": {
      "text/plain": [
       "array([[55387,  1486],\n",
       "       [ 1487, 55386]])"
      ]
     },
     "execution_count": 53,
     "metadata": {
      "tags": []
     },
     "output_type": "execute_result"
    }
   ],
   "source": [
    "confusion_matrix(y_test1_res,  ST_RF_test1_smote_CV3_selected2.predict(X_test1_smote))"
   ]
  },
  {
   "cell_type": "markdown",
   "metadata": {
    "id": "DnbRFx1QKLd3"
   },
   "source": [
    "##### with non smote test1, bad idea"
   ]
  },
  {
   "cell_type": "code",
   "execution_count": null,
   "metadata": {
    "colab": {
     "base_uri": "https://localhost:8080/"
    },
    "executionInfo": {
     "elapsed": 3117047,
     "status": "ok",
     "timestamp": 1607314316868,
     "user": {
      "displayName": "Yvonne Wu",
      "photoUrl": "",
      "userId": "01020686261312080072"
     },
     "user_tz": 480
    },
    "id": "ns4KUHbiKIFQ",
    "outputId": "366e2517-41eb-4c59-fca0-6928cef7e6d1"
   },
   "outputs": [
    {
     "name": "stdout",
     "output_type": "stream",
     "text": [
      "1607314303.5667784\n",
      "--- 11.282747745513916 seconds ---\n",
      "0.999490011254924 0.6326530612244898 0.843505054666774\n",
      "              precision    recall  f1-score   support\n",
      "\n",
      "           0       1.00      1.00      1.00     56864\n",
      "           1       0.68      0.63      0.66        98\n",
      "\n",
      "    accuracy                           1.00     56962\n",
      "   macro avg       0.84      0.82      0.83     56962\n",
      "weighted avg       1.00      1.00      1.00     56962\n",
      "\n",
      "              precision    recall  f1-score   support\n",
      "\n",
      "           0       0.50      1.00      0.67     56873\n",
      "           1       1.00      0.00      0.01     56873\n",
      "\n",
      "    accuracy                           0.50    113746\n",
      "   macro avg       0.75      0.50      0.34    113746\n",
      "weighted avg       0.75      0.50      0.34    113746\n",
      "\n",
      "--- 13.157107830047607 seconds ---\n"
     ]
    }
   ],
   "source": [
    "from sklearn.ensemble import RandomForestClassifier\n",
    "from sklearn.linear_model import LogisticRegression\n",
    "estimators_smote_selected = [\n",
    "                ('Logis', LogisticRegression())#,\n",
    "                #('XGB', RandomSearch_XGB_smote_best_estimator),\n",
    "                #('Gra_Boost', Gra_best_estimator),\n",
    "                #('Ada_Boost', Ada_best_estimator),\n",
    "                #('RandomForest', RFC_best_estimator)                \n",
    "             ]\n",
    "             \n",
    "from sklearn.ensemble import StackingClassifier\n",
    "from sklearn.ensemble import RandomForestClassifier\n",
    "import time\n",
    "\n",
    "start_time = time.time()\n",
    "print(start_time)\n",
    "\n",
    "ST_RF_test1_smote_CV3_selected2=StackingClassifier(cv=5,\n",
    "                   estimators=estimators_smote_selected,\n",
    "                   final_estimator=RandomForestClassifier(),\n",
    "                   n_jobs=10, passthrough=False, stack_method='auto', verbose=2)\n",
    "ST_RF_test1_smote_CV3_selected2.fit(X_test1, y_test1)\n",
    "print(\"--- %s seconds ---\" % (time.time() - start_time))\n",
    "\n",
    "\n",
    "import pickle\n",
    "# now you can save it to a file\n",
    "with open('/content/drive/MyDrive/ST_RF_test1_smote_CV3_logis_randomForest.pkl', 'wb') as f:\n",
    "    pickle.dump(ST_RF_test1_smote_CV3_selected2, f)\n",
    "\n",
    "\n",
    "# Evaluation\n",
    "from sklearn.metrics import roc_auc_score, confusion_matrix, classification_report, roc_curve, auc\n",
    "ST_RF_test2_smote_CV3_selected2_report =classification_report(y_test2,  ST_RF_test1_smote_CV3_selected2.predict(X_test2),  output_dict=True)\n",
    "print(ST_RF_test2_smote_CV3_selected2_report['0']['recall'], ST_RF_test2_smote_CV3_selected2_report['1']['recall'], ST_RF_test2_smote_CV3_selected_report['macro avg']['recall'])\n",
    "print(classification_report(y_test2,  ST_RF_test1_smote_CV3_selected2.predict(X_test2)))\n",
    "print(classification_report(y_test1_res,  ST_RF_test1_smote_CV3_selected2.predict(X_test1_smote)))\n",
    "print(\"--- %s seconds ---\" % (time.time() - start_time))"
   ]
  },
  {
   "cell_type": "markdown",
   "metadata": {
    "id": "dPsgMaeQNxtF"
   },
   "source": [
    "#### logis with adaboosting, then RandomForest"
   ]
  },
  {
   "cell_type": "code",
   "execution_count": null,
   "metadata": {
    "colab": {
     "base_uri": "https://localhost:8080/"
    },
    "executionInfo": {
     "elapsed": 4246270,
     "status": "ok",
     "timestamp": 1607315447088,
     "user": {
      "displayName": "Yvonne Wu",
      "photoUrl": "",
      "userId": "01020686261312080072"
     },
     "user_tz": 480
    },
    "id": "90nrA5GFNp8m",
    "outputId": "7f0f71a2-8b6d-4e23-b6c8-fa0ea903def7"
   },
   "outputs": [
    {
     "name": "stdout",
     "output_type": "stream",
     "text": [
      "1607314316.7467165\n",
      "--- 1109.7515614032745 seconds ---\n",
      "0.9564399268429938 0.673469387755102 0.843505054666774\n",
      "              precision    recall  f1-score   support\n",
      "\n",
      "           0       1.00      0.96      0.98     56864\n",
      "           1       0.03      0.67      0.05        98\n",
      "\n",
      "    accuracy                           0.96     56962\n",
      "   macro avg       0.51      0.81      0.51     56962\n",
      "weighted avg       1.00      0.96      0.98     56962\n",
      "\n",
      "              precision    recall  f1-score   support\n",
      "\n",
      "           0       1.00      1.00      1.00     56873\n",
      "           1       1.00      1.00      1.00     56873\n",
      "\n",
      "    accuracy                           1.00    113746\n",
      "   macro avg       1.00      1.00      1.00    113746\n",
      "weighted avg       1.00      1.00      1.00    113746\n",
      "\n",
      "--- 1130.1536211967468 seconds ---\n"
     ]
    }
   ],
   "source": [
    "from sklearn.ensemble import RandomForestClassifier\n",
    "from sklearn.linear_model import LogisticRegression\n",
    "estimators_smote_selected = [\n",
    "                ('Logis', LogisticRegression()),\n",
    "                #('XGB', RandomSearch_XGB_smote_best_estimator),\n",
    "                #('Gra_Boost', Gra_best_estimator),\n",
    "                ('Ada_Boost', Ada_best_estimator),\n",
    "                #('RandomForest', RFC_best_estimator)                \n",
    "             ]\n",
    "             \n",
    "from sklearn.ensemble import StackingClassifier\n",
    "from sklearn.ensemble import RandomForestClassifier\n",
    "import time\n",
    "\n",
    "start_time = time.time()\n",
    "print(start_time)\n",
    "\n",
    "ST_RF_test1_smote_CV3_selected2=StackingClassifier(cv=5,\n",
    "                   estimators=estimators_smote_selected,\n",
    "                   final_estimator=RandomForestClassifier(),\n",
    "                   n_jobs=10, passthrough=False, stack_method='auto', verbose=2)\n",
    "ST_RF_test1_smote_CV3_selected2.fit(X_test1_smote, y_test1_res)\n",
    "print(\"--- %s seconds ---\" % (time.time() - start_time))\n",
    "\n",
    "\n",
    "import pickle\n",
    "# now you can save it to a file\n",
    "with open('/content/drive/MyDrive/ST_RF_test1_smote_CV3_logis_randomForest.pkl', 'wb') as f:\n",
    "    pickle.dump(ST_RF_test1_smote_CV3_selected2, f)\n",
    "\n",
    "\n",
    "# Evaluation\n",
    "from sklearn.metrics import roc_auc_score, confusion_matrix, classification_report, roc_curve, auc\n",
    "ST_RF_test2_smote_CV3_selected2_report =classification_report(y_test2,  ST_RF_test1_smote_CV3_selected2.predict(X_test2),  output_dict=True)\n",
    "print(ST_RF_test2_smote_CV3_selected2_report['0']['recall'], ST_RF_test2_smote_CV3_selected2_report['1']['recall'], ST_RF_test2_smote_CV3_selected_report['macro avg']['recall'])\n",
    "print(classification_report(y_test2,  ST_RF_test1_smote_CV3_selected2.predict(X_test2)))\n",
    "print(classification_report(y_test1_res,  ST_RF_test1_smote_CV3_selected2.predict(X_test1_smote)))\n",
    "print(\"--- %s seconds ---\" % (time.time() - start_time))"
   ]
  },
  {
   "cell_type": "markdown",
   "metadata": {
    "id": "-0DmtBzJOVno"
   },
   "source": [
    "#### Logis then logis"
   ]
  },
  {
   "cell_type": "code",
   "execution_count": null,
   "metadata": {
    "colab": {
     "base_uri": "https://localhost:8080/"
    },
    "executionInfo": {
     "elapsed": 4262765,
     "status": "ok",
     "timestamp": 1607315465033,
     "user": {
      "displayName": "Yvonne Wu",
      "photoUrl": "",
      "userId": "01020686261312080072"
     },
     "user_tz": 480
    },
    "id": "w-c4iokGN5BF",
    "outputId": "f3027b0a-1246-40a0-e7ca-e61135a2504e"
   },
   "outputs": [
    {
     "name": "stdout",
     "output_type": "stream",
     "text": [
      "1607315446.927092\n",
      "--- 17.390547275543213 seconds ---\n",
      "0.4594822734946539 0.9387755102040817 0.843505054666774\n",
      "              precision    recall  f1-score   support\n",
      "\n",
      "           0       1.00      0.46      0.63     56864\n",
      "           1       0.00      0.94      0.01        98\n",
      "\n",
      "    accuracy                           0.46     56962\n",
      "   macro avg       0.50      0.70      0.32     56962\n",
      "weighted avg       1.00      0.46      0.63     56962\n",
      "\n",
      "              precision    recall  f1-score   support\n",
      "\n",
      "           0       0.98      0.98      0.98     56873\n",
      "           1       0.98      0.98      0.98     56873\n",
      "\n",
      "    accuracy                           0.98    113746\n",
      "   macro avg       0.98      0.98      0.98    113746\n",
      "weighted avg       0.98      0.98      0.98    113746\n",
      "\n",
      "--- 17.903704166412354 seconds ---\n"
     ]
    }
   ],
   "source": [
    "from sklearn.ensemble import RandomForestClassifier\n",
    "from sklearn.linear_model import LogisticRegression\n",
    "estimators_smote_selected = [\n",
    "                ('Logis', LogisticRegression())#,\n",
    "                #('XGB', RandomSearch_XGB_smote_best_estimator),\n",
    "                #('Gra_Boost', Gra_best_estimator),\n",
    "                #('Ada_Boost', Ada_best_estimator),\n",
    "                #('RandomForest', RFC_best_estimator)                \n",
    "             ]\n",
    "             \n",
    "from sklearn.ensemble import StackingClassifier\n",
    "from sklearn.ensemble import RandomForestClassifier\n",
    "import time\n",
    "\n",
    "start_time = time.time()\n",
    "print(start_time)\n",
    "\n",
    "ST_RF_test1_smote_CV3_selected2=StackingClassifier(cv=5,\n",
    "                   estimators=estimators_smote_selected,\n",
    "                   final_estimator=LogisticRegression(),\n",
    "                   n_jobs=10, passthrough=False, stack_method='auto', verbose=2)\n",
    "ST_RF_test1_smote_CV3_selected2.fit(X_test1_smote, y_test1_res)\n",
    "print(\"--- %s seconds ---\" % (time.time() - start_time))\n",
    "\n",
    "\n",
    "import pickle\n",
    "# now you can save it to a file\n",
    "with open('/content/drive/MyDrive/ST_RF_test1_smote_CV3_logis_randomForest.pkl', 'wb') as f:\n",
    "    pickle.dump(ST_RF_test1_smote_CV3_selected2, f)\n",
    "\n",
    "\n",
    "# Evaluation\n",
    "from sklearn.metrics import roc_auc_score, confusion_matrix, classification_report, roc_curve, auc\n",
    "ST_RF_test2_smote_CV3_selected2_report =classification_report(y_test2,  ST_RF_test1_smote_CV3_selected2.predict(X_test2),  output_dict=True)\n",
    "print(ST_RF_test2_smote_CV3_selected2_report['0']['recall'], ST_RF_test2_smote_CV3_selected2_report['1']['recall'], ST_RF_test2_smote_CV3_selected_report['macro avg']['recall'])\n",
    "print(classification_report(y_test2,  ST_RF_test1_smote_CV3_selected2.predict(X_test2)))\n",
    "print(classification_report(y_test1_res,  ST_RF_test1_smote_CV3_selected2.predict(X_test1_smote)))\n",
    "print(\"--- %s seconds ---\" % (time.time() - start_time))"
   ]
  },
  {
   "cell_type": "markdown",
   "metadata": {
    "id": "4wvfmfPgHojV"
   },
   "source": [
    "#### RandomForest then Logis"
   ]
  },
  {
   "cell_type": "code",
   "execution_count": null,
   "metadata": {
    "colab": {
     "base_uri": "https://localhost:8080/"
    },
    "executionInfo": {
     "elapsed": 613122,
     "status": "ok",
     "timestamp": 1607319235485,
     "user": {
      "displayName": "Yvonne Wu",
      "photoUrl": "",
      "userId": "01020686261312080072"
     },
     "user_tz": 480
    },
    "id": "37hQSPNVFCof",
    "outputId": "dafc9ed8-1799-4cba-b055-7aa1c608b352"
   },
   "outputs": [
    {
     "name": "stdout",
     "output_type": "stream",
     "text": [
      "1607318622.533145\n",
      "--- 605.7108948230743 seconds ---\n",
      "0.9197910804727069 0.8979591836734694 0.843505054666774\n",
      "Test2\n",
      "              precision    recall  f1-score   support\n",
      "\n",
      "           0       1.00      0.92      0.96     56864\n",
      "           1       0.02      0.90      0.04        98\n",
      "\n",
      "    accuracy                           0.92     56962\n",
      "   macro avg       0.51      0.91      0.50     56962\n",
      "weighted avg       1.00      0.92      0.96     56962\n",
      "\n",
      "Test1\n",
      "              precision    recall  f1-score   support\n",
      "\n",
      "           0       0.99      1.00      1.00     56873\n",
      "           1       1.00      0.99      1.00     56873\n",
      "\n",
      "    accuracy                           1.00    113746\n",
      "   macro avg       1.00      1.00      1.00    113746\n",
      "weighted avg       1.00      1.00      1.00    113746\n",
      "\n",
      "--- 612.7324695587158 seconds ---\n"
     ]
    }
   ],
   "source": [
    "from sklearn.ensemble import RandomForestClassifier\n",
    "from sklearn.linear_model import LogisticRegression\n",
    "estimators_smote_selected = [\n",
    "                #('Logis', LogisticRegression())#,\n",
    "                #('XGB', RandomSearch_XGB_smote_best_estimator),\n",
    "                #('Gra_Boost', Gra_best_estimator),\n",
    "                #('Ada_Boost', Ada_best_estimator),\n",
    "                ('RandomForest', RFC_best_estimator)                \n",
    "             ]\n",
    "             \n",
    "from sklearn.ensemble import StackingClassifier\n",
    "from sklearn.ensemble import RandomForestClassifier\n",
    "import time\n",
    "\n",
    "start_time = time.time()\n",
    "print(start_time)\n",
    "\n",
    "ST_RF_test1_smote_CV3_selected2=StackingClassifier(cv=5,\n",
    "                   estimators=estimators_smote_selected,\n",
    "                   final_estimator=LogisticRegression(),\n",
    "                   n_jobs=10, passthrough=False, stack_method='auto', verbose=2)\n",
    "ST_RF_test1_smote_CV3_selected2.fit(X_test1_smote, y_test1_res)\n",
    "print(\"--- %s seconds ---\" % (time.time() - start_time))\n",
    "\n",
    "\n",
    "import pickle\n",
    "# now you can save it to a file\n",
    "with open('/content/drive/MyDrive/ST_RF_test1_smote_CV3_logis_randomForest.pkl', 'wb') as f:\n",
    "    pickle.dump(ST_RF_test1_smote_CV3_selected2, f)\n",
    "\n",
    "\n",
    "# Evaluation\n",
    "from sklearn.metrics import roc_auc_score, confusion_matrix, classification_report, roc_curve, auc\n",
    "ST_RF_test2_smote_CV3_selected2_report =classification_report(y_test2,  ST_RF_test1_smote_CV3_selected2.predict(X_test2),  output_dict=True)\n",
    "print(ST_RF_test2_smote_CV3_selected2_report['0']['recall'], ST_RF_test2_smote_CV3_selected2_report['1']['recall'], ST_RF_test2_smote_CV3_selected_report['macro avg']['recall'])\n",
    "print('Test2')\n",
    "print(classification_report(y_test2,  ST_RF_test1_smote_CV3_selected2.predict(X_test2)))\n",
    "print('Test1')\n",
    "print(classification_report(y_test1_res,  ST_RF_test1_smote_CV3_selected2.predict(X_test1_smote)))\n",
    "print(\"--- %s seconds ---\" % (time.time() - start_time))"
   ]
  },
  {
   "cell_type": "code",
   "execution_count": null,
   "metadata": {
    "colab": {
     "base_uri": "https://localhost:8080/"
    },
    "executionInfo": {
     "elapsed": 616255,
     "status": "ok",
     "timestamp": 1607319238634,
     "user": {
      "displayName": "Yvonne Wu",
      "photoUrl": "",
      "userId": "01020686261312080072"
     },
     "user_tz": 480
    },
    "id": "oI0NyrNlhEYr",
    "outputId": "5964a40f-63a4-402a-d621-87d3aff2a627"
   },
   "outputs": [
    {
     "data": {
      "text/plain": [
       "(0.9967471383609094, 0.9944261776238286, 0.995586657992369)"
      ]
     },
     "execution_count": 58,
     "metadata": {
      "tags": []
     },
     "output_type": "execute_result"
    }
   ],
   "source": [
    "cla_random_logis=classification_report(y_test1_res,  ST_RF_test1_smote_CV3_selected2.predict(X_test1_smote), output_dict=True)\n",
    "cla_random_logis['0']['recall'], cla_random_logis['1']['recall'], cla_random_logis['weighted avg']['recall']"
   ]
  },
  {
   "cell_type": "code",
   "execution_count": null,
   "metadata": {
    "colab": {
     "base_uri": "https://localhost:8080/"
    },
    "executionInfo": {
     "elapsed": 618214,
     "status": "ok",
     "timestamp": 1607319240602,
     "user": {
      "displayName": "Yvonne Wu",
      "photoUrl": "",
      "userId": "01020686261312080072"
     },
     "user_tz": 480
    },
    "id": "b-LrWCrQmUNw",
    "outputId": "1a6dc20f-2a37-45eb-c598-892fb309d393"
   },
   "outputs": [
    {
     "data": {
      "text/plain": [
       "(0.9197910804727069, 0.8979591836734694, 0.9197535198904533)"
      ]
     },
     "execution_count": 59,
     "metadata": {
      "tags": []
     },
     "output_type": "execute_result"
    }
   ],
   "source": [
    "cla_random_logis=classification_report(y_test2,  ST_RF_test1_smote_CV3_selected2.predict(X_test2), output_dict=True)\n",
    "cla_random_logis['0']['recall'], cla_random_logis['1']['recall'], cla_random_logis['weighted avg']['recall']"
   ]
  },
  {
   "cell_type": "code",
   "execution_count": null,
   "metadata": {
    "colab": {
     "base_uri": "https://localhost:8080/",
     "height": 327
    },
    "executionInfo": {
     "elapsed": 622132,
     "status": "ok",
     "timestamp": 1607319244529,
     "user": {
      "displayName": "Yvonne Wu",
      "photoUrl": "",
      "userId": "01020686261312080072"
     },
     "user_tz": 480
    },
    "id": "rQmWVZILwQ7D",
    "outputId": "14174eaf-c0ac-4121-bfd3-5683ce9fae58"
   },
   "outputs": [
    {
     "data": {
      "image/png": "[encoded data removed]",
      "text/plain": [
       "<Figure size 432x288 with 2 Axes>"
      ]
     },
     "metadata": {
      "needs_background": "light",
      "tags": []
     },
     "output_type": "display_data"
    }
   ],
   "source": [
    "# Create Confusion Matrix\n",
    "optimizedAdaMatrix = confusion_matrix(y_test,ST_RF_test1_smote_CV3_selected2.predict(X_test))\n",
    "\n",
    "# Create label names\n",
    "group_names = ['True Neg','False Pos','False Neg','True Pos']\n",
    "\n",
    "# Extract counts from basic matrix arrays\n",
    "group_counts = [\"{0:0.0f}\".format(value) for value in\n",
    "                optimizedAdaMatrix.flatten()]\n",
    "\n",
    "# Calculate percentages\n",
    "group_percentages = [\"{0:.2%}\".format(value) for value in\n",
    "                     optimizedAdaMatrix.flatten()/np.sum(optimizedAdaMatrix)]\n",
    "\n",
    "# Create actual labels by zipping together previous lists\n",
    "labels = [f\"{v1}\\n{v2}\\n{v3}\" for v1, v2, v3 in\n",
    "          zip(group_names,group_counts,group_percentages)]\n",
    "labels = np.asarray(labels).reshape(2,2)\n",
    "\n",
    "# Create heatmap\n",
    "sns.heatmap(optimizedAdaMatrix, annot=labels, fmt='', cmap='Greens')\n",
    "plt.tight_layout()\n",
    "plt.title('Confusion matrix', y=1.1)\n",
    "plt.ylabel('Actual class')\n",
    "plt.xlabel('Predicted class')\n",
    "pass"
   ]
  },
  {
   "cell_type": "markdown",
   "metadata": {
    "id": "4SzrjzjVogER"
   },
   "source": [
    "#### Full dataset, RandomFor then logis"
   ]
  },
  {
   "cell_type": "code",
   "execution_count": null,
   "metadata": {
    "id": "2cerjUuooj9R"
   },
   "outputs": [],
   "source": [
    "scaler = RobustScaler()\n",
    "scaler.fit(X_train_ori)\n",
    "\n",
    "X_full = scaler.transform(X)\n",
    "X_full = pd.DataFrame(X_full,columns=X.columns)"
   ]
  },
  {
   "cell_type": "code",
   "execution_count": null,
   "metadata": {
    "colab": {
     "base_uri": "https://localhost:8080/"
    },
    "executionInfo": {
     "elapsed": 381372,
     "status": "ok",
     "timestamp": 1607302728928,
     "user": {
      "displayName": "Yvonne Wu",
      "photoUrl": "",
      "userId": "01020686261312080072"
     },
     "user_tz": 480
    },
    "id": "pc9eH3W0o0qa",
    "outputId": "56ad5c3f-fbe2-4218-cabe-488969d871f9"
   },
   "outputs": [
    {
     "name": "stdout",
     "output_type": "stream",
     "text": [
      "1607302348.136732\n",
      "--- 365.07473278045654 seconds ---\n",
      "0.9197559088351154 0.8979591836734694 0.9088575462542924\n",
      "full dataset\n",
      "              precision    recall  f1-score   support\n",
      "\n",
      "           0       1.00      0.92      0.96    284315\n",
      "           1       0.02      0.93      0.04       492\n",
      "\n",
      "    accuracy                           0.92    284807\n",
      "   macro avg       0.51      0.92      0.50    284807\n",
      "weighted avg       1.00      0.92      0.96    284807\n",
      "\n",
      "--- 375.7167525291443 seconds ---\n",
      "Test2\n",
      "              precision    recall  f1-score   support\n",
      "\n",
      "           0       1.00      0.92      0.96     56864\n",
      "           1       0.02      0.90      0.04        98\n",
      "\n",
      "    accuracy                           0.92     56962\n",
      "   macro avg       0.51      0.91      0.50     56962\n",
      "weighted avg       1.00      0.92      0.96     56962\n",
      "\n",
      "Test1\n",
      "              precision    recall  f1-score   support\n",
      "\n",
      "           0       0.99      1.00      1.00     56873\n",
      "           1       1.00      0.99      1.00     56873\n",
      "\n",
      "    accuracy                           1.00    113746\n",
      "   macro avg       1.00      1.00      1.00    113746\n",
      "weighted avg       1.00      1.00      1.00    113746\n",
      "\n",
      "--- 380.6567769050598 seconds ---\n"
     ]
    }
   ],
   "source": [
    "from sklearn.ensemble import RandomForestClassifier\n",
    "from sklearn.linear_model import LogisticRegression\n",
    "estimators_smote_selected = [\n",
    "                #('Logis', LogisticRegression())#,\n",
    "                #('XGB', RandomSearch_XGB_smote_best_estimator),\n",
    "                #('Gra_Boost', Gra_best_estimator),\n",
    "                #('Ada_Boost', Ada_best_estimator),\n",
    "                ('RandomForest', RFC_best_estimator)                \n",
    "             ]\n",
    "             \n",
    "from sklearn.ensemble import StackingClassifier\n",
    "from sklearn.ensemble import RandomForestClassifier\n",
    "import time\n",
    "\n",
    "start_time = time.time()\n",
    "print(start_time)\n",
    "\n",
    "ST_RF_test1_smote_CV3_selected2=StackingClassifier(cv=3,\n",
    "                   estimators=estimators_smote_selected,\n",
    "                   final_estimator=LogisticRegression(),\n",
    "                   n_jobs=10, passthrough=False, stack_method='auto', verbose=2)\n",
    "ST_RF_test1_smote_CV3_selected2.fit(X_test1_smote, y_test1_res)\n",
    "print(\"--- %s seconds ---\" % (time.time() - start_time))\n",
    "\n",
    "\n",
    "# Evaluation\n",
    "from sklearn.metrics import roc_auc_score, confusion_matrix, classification_report, roc_curve, auc\n",
    "ST_RF_test2_smote_CV3_selected2_report =classification_report(y_test2,  ST_RF_test1_smote_CV3_selected2.predict(X_test2),  output_dict=True)\n",
    "print(ST_RF_test2_smote_CV3_selected2_report['0']['recall'], ST_RF_test2_smote_CV3_selected2_report['1']['recall'], ST_RF_test2_smote_CV3_selected2_report['macro avg']['recall'])\n",
    "\n",
    "\n",
    "print('full dataset')\n",
    "print(classification_report(y,  ST_RF_test1_smote_CV3_selected2.predict(X_full)))\n",
    "print(\"--- %s seconds ---\" % (time.time() - start_time))\n",
    "\n",
    "print('Test2')\n",
    "print(classification_report(y_test2,  ST_RF_test1_smote_CV3_selected2.predict(X_test2)))\n",
    "print('Test1')\n",
    "print(classification_report(y_test1_res,  ST_RF_test1_smote_CV3_selected2.predict(X_test1_smote)))\n",
    "print(\"--- %s seconds ---\" % (time.time() - start_time))"
   ]
  },
  {
   "cell_type": "code",
   "execution_count": null,
   "metadata": {
    "colab": {
     "base_uri": "https://localhost:8080/",
     "height": 327
    },
    "executionInfo": {
     "elapsed": 9263,
     "status": "ok",
     "timestamp": 1607303363582,
     "user": {
      "displayName": "Yvonne Wu",
      "photoUrl": "",
      "userId": "01020686261312080072"
     },
     "user_tz": 480
    },
    "id": "2lErYjEmrBm8",
    "outputId": "55a2e37a-5bd0-4495-e963-cdff060df216"
   },
   "outputs": [
    {
     "data": {
      "image/png": "[encoded data removed]",
      "text/plain": [
       "<Figure size 432x288 with 2 Axes>"
      ]
     },
     "metadata": {
      "needs_background": "light",
      "tags": []
     },
     "output_type": "display_data"
    }
   ],
   "source": [
    "# Create Confusion Matrix\n",
    "optimizedAdaMatrix = confusion_matrix(y,ST_RF_test1_smote_CV3_selected2.predict(X_full))\n",
    "\n",
    "# Create label names\n",
    "group_names = ['True Neg','False Pos','False Neg','True Pos']\n",
    "\n",
    "# Extract counts from basic matrix arrays\n",
    "group_counts = [\"{0:0.0f}\".format(value) for value in\n",
    "                optimizedAdaMatrix.flatten()]\n",
    "\n",
    "# Calculate percentages\n",
    "group_percentages = [\"{0:.2%}\".format(value) for value in\n",
    "                     optimizedAdaMatrix.flatten()/np.sum(optimizedAdaMatrix)]\n",
    "\n",
    "# Create actual labels by zipping together previous lists\n",
    "labels = [f\"{v1}\\n{v2}\\n{v3}\" for v1, v2, v3 in\n",
    "          zip(group_names,group_counts,group_percentages)]\n",
    "labels = np.asarray(labels).reshape(2,2)\n",
    "\n",
    "# Create heatmap\n",
    "sns.heatmap(optimizedAdaMatrix, annot=labels, fmt='', cmap='Greens')\n",
    "plt.tight_layout()\n",
    "plt.title('Confusion matrix', y=1.1)\n",
    "plt.ylabel('Actual class')\n",
    "plt.xlabel('Predicted class')\n",
    "pass"
   ]
  },
  {
   "cell_type": "code",
   "execution_count": null,
   "metadata": {
    "colab": {
     "base_uri": "https://localhost:8080/",
     "height": 327
    },
    "executionInfo": {
     "elapsed": 4539,
     "status": "ok",
     "timestamp": 1607308943960,
     "user": {
      "displayName": "Yvonne Wu",
      "photoUrl": "",
      "userId": "01020686261312080072"
     },
     "user_tz": 480
    },
    "id": "PgNl-LekxAAr",
    "outputId": "3b357912-3813-4187-9012-0ba849e784f8"
   },
   "outputs": [
    {
     "data": {
      "image/png": "[encoded data removed]",
      "text/plain": [
       "<Figure size 432x288 with 2 Axes>"
      ]
     },
     "metadata": {
      "needs_background": "light",
      "tags": []
     },
     "output_type": "display_data"
    }
   ],
   "source": [
    "# Create Confusion Matrix\n",
    "optimizedAdaMatrix = confusion_matrix(y_test,ST_RF_test1_smote_CV3_selected2.predict(X_test))\n",
    "\n",
    "# Create label names\n",
    "group_names = ['True Neg','False Pos','False Neg','True Pos']\n",
    "\n",
    "# Extract counts from basic matrix arrays\n",
    "group_counts = [\"{0:0.0f}\".format(value) for value in\n",
    "                optimizedAdaMatrix.flatten()]\n",
    "\n",
    "# Calculate percentages\n",
    "group_percentages = [\"{0:.2%}\".format(value) for value in\n",
    "                     optimizedAdaMatrix.flatten()/np.sum(optimizedAdaMatrix)]\n",
    "\n",
    "# Create actual labels by zipping together previous lists\n",
    "labels = [f\"{v1}\\n{v2}\\n{v3}\" for v1, v2, v3 in\n",
    "          zip(group_names,group_counts,group_percentages)]\n",
    "labels = np.asarray(labels).reshape(2,2)\n",
    "\n",
    "# Create heatmap\n",
    "sns.heatmap(optimizedAdaMatrix, annot=labels, fmt='', cmap='Greens')\n",
    "plt.tight_layout()\n",
    "plt.title('Confusion matrix', y=1.1)\n",
    "plt.ylabel('Actual class')\n",
    "plt.xlabel('Predicted class')\n",
    "pass"
   ]
  },
  {
   "cell_type": "markdown",
   "metadata": {
    "id": "EZYRr4bt_M_k"
   },
   "source": [
    "#### RondomForest, Logis, nonSmote"
   ]
  },
  {
   "cell_type": "code",
   "execution_count": null,
   "metadata": {
    "colab": {
     "base_uri": "https://localhost:8080/"
    },
    "executionInfo": {
     "elapsed": 296553,
     "status": "ok",
     "timestamp": 1607319541109,
     "user": {
      "displayName": "Yvonne Wu",
      "photoUrl": "",
      "userId": "01020686261312080072"
     },
     "user_tz": 480
    },
    "id": "JBZScynv_Qxu",
    "outputId": "f00ee92d-e173-48b4-b5b8-d238b9a17a49"
   },
   "outputs": [
    {
     "name": "stdout",
     "output_type": "stream",
     "text": [
      "1607319244.8647413\n",
      "--- 292.03237080574036 seconds ---\n",
      "0.9998768992684299 0.5306122448979592 0.7652445720831946\n",
      "Test2\n",
      "              precision    recall  f1-score   support\n",
      "\n",
      "           0       1.00      1.00      1.00     56864\n",
      "           1       0.88      0.53      0.66        98\n",
      "\n",
      "    accuracy                           1.00     56962\n",
      "   macro avg       0.94      0.77      0.83     56962\n",
      "weighted avg       1.00      1.00      1.00     56962\n",
      "\n",
      "Test1\n",
      "              precision    recall  f1-score   support\n",
      "\n",
      "           0       1.00      1.00      1.00     56873\n",
      "           1       1.00      0.82      0.90        88\n",
      "\n",
      "    accuracy                           1.00     56961\n",
      "   macro avg       1.00      0.91      0.95     56961\n",
      "weighted avg       1.00      1.00      1.00     56961\n",
      "\n",
      "--- 296.0210905075073 seconds ---\n"
     ]
    }
   ],
   "source": [
    "from sklearn.ensemble import RandomForestClassifier\n",
    "from sklearn.linear_model import LogisticRegression\n",
    "estimators_smote_selected = [\n",
    "                #('Logis', LogisticRegression())#,\n",
    "                #('XGB', RandomSearch_XGB_smote_best_estimator),\n",
    "                #('Gra_Boost', Gra_best_estimator),\n",
    "                #('Ada_Boost', Ada_best_estimator),\n",
    "                ('RandomForest', RFC_best_estimator)                \n",
    "             ]\n",
    "             \n",
    "from sklearn.ensemble import StackingClassifier\n",
    "from sklearn.ensemble import RandomForestClassifier\n",
    "import time\n",
    "\n",
    "start_time = time.time()\n",
    "print(start_time)\n",
    "\n",
    "ST_RF_test1_smote_CV3_selected2=StackingClassifier(cv=5,\n",
    "                   estimators=estimators_smote_selected,\n",
    "                   final_estimator=LogisticRegression(),\n",
    "                   n_jobs=10, passthrough=False, stack_method='auto', verbose=2)\n",
    "ST_RF_test1_smote_CV3_selected2.fit(X_test1, y_test1)\n",
    "print(\"--- %s seconds ---\" % (time.time() - start_time))\n",
    "\n",
    "# Evaluation\n",
    "from sklearn.metrics import roc_auc_score, confusion_matrix, classification_report, roc_curve, auc\n",
    "ST_RF_test2_smote_CV3_selected2_report =classification_report(y_test2,  ST_RF_test1_smote_CV3_selected2.predict(X_test2),  output_dict=True)\n",
    "print(ST_RF_test2_smote_CV3_selected2_report['0']['recall'], ST_RF_test2_smote_CV3_selected2_report['1']['recall'], ST_RF_test2_smote_CV3_selected2_report['macro avg']['recall'])\n",
    "print('Test2')\n",
    "print(classification_report(y_test2,  ST_RF_test1_smote_CV3_selected2.predict(X_test2)))\n",
    "print('Test1')\n",
    "print(classification_report(y_test1,  ST_RF_test1_smote_CV3_selected2.predict(X_test1)))\n",
    "print(\"--- %s seconds ---\" % (time.time() - start_time))\n"
   ]
  },
  {
   "cell_type": "code",
   "execution_count": null,
   "metadata": {
    "colab": {
     "base_uri": "https://localhost:8080/"
    },
    "executionInfo": {
     "elapsed": 299423,
     "status": "ok",
     "timestamp": 1607319543994,
     "user": {
      "displayName": "Yvonne Wu",
      "photoUrl": "",
      "userId": "01020686261312080072"
     },
     "user_tz": 480
    },
    "id": "t8kOT4GX5OY1",
    "outputId": "69a581ae-b8e1-4fad-8d31-6ea2a1bd6253"
   },
   "outputs": [
    {
     "data": {
      "image/png": "[encoded data removed]",
      "text/plain": [
       "<Figure size 432x288 with 2 Axes>"
      ]
     },
     "metadata": {
      "needs_background": "light",
      "tags": []
     },
     "output_type": "display_data"
    }
   ],
   "source": [
    "# Create Confusion Matrix\n",
    "optimizedAdaMatrix = confusion_matrix(y_test,ST_RF_test1_smote_CV3_selected2.predict(X_test))\n",
    "\n",
    "# Create label names\n",
    "group_names = ['True Neg','False Pos','False Neg','True Pos']\n",
    "\n",
    "# Extract counts from basic matrix arrays\n",
    "group_counts = [\"{0:0.0f}\".format(value) for value in\n",
    "                optimizedAdaMatrix.flatten()]\n",
    "\n",
    "# Calculate percentages\n",
    "group_percentages = [\"{0:.2%}\".format(value) for value in\n",
    "                     optimizedAdaMatrix.flatten()/np.sum(optimizedAdaMatrix)]\n",
    "\n",
    "# Create actual labels by zipping together previous lists\n",
    "labels = [f\"{v1}\\n{v2}\\n{v3}\" for v1, v2, v3 in\n",
    "          zip(group_names,group_counts,group_percentages)]\n",
    "labels = np.asarray(labels).reshape(2,2)\n",
    "\n",
    "# Create heatmap\n",
    "sns.heatmap(optimizedAdaMatrix, annot=labels, fmt='', cmap='Greens')\n",
    "plt.tight_layout()\n",
    "plt.title('Confusion matrix', y=1.1)\n",
    "plt.ylabel('Actual class')\n",
    "plt.xlabel('Predicted class')\n",
    "pass"
   ]
  },
  {
   "cell_type": "markdown",
   "metadata": {
    "id": "9SpiSFDli7Xf"
   },
   "source": [
    "#### RandomForest, AdaBoosting, then Logis"
   ]
  },
  {
   "cell_type": "code",
   "execution_count": null,
   "metadata": {
    "colab": {
     "base_uri": "https://localhost:8080/"
    },
    "executionInfo": {
     "elapsed": 2005090,
     "status": "ok",
     "timestamp": 1607321249674,
     "user": {
      "displayName": "Yvonne Wu",
      "photoUrl": "",
      "userId": "01020686261312080072"
     },
     "user_tz": 480
    },
    "id": "EosbKZdliuEd",
    "outputId": "846eb0aa-4594-416f-c66a-978a163df47b"
   },
   "outputs": [
    {
     "name": "stdout",
     "output_type": "stream",
     "text": [
      "1607319543.7404757\n",
      "--- 1665.9841434955597 seconds ---\n",
      "0.9220596510973551 0.8877551020408163 0.9049073765690857\n",
      "              precision    recall  f1-score   support\n",
      "\n",
      "           0       1.00      0.92      0.96     56864\n",
      "           1       0.02      0.89      0.04        98\n",
      "\n",
      "    accuracy                           0.92     56962\n",
      "   macro avg       0.51      0.90      0.50     56962\n",
      "weighted avg       1.00      0.92      0.96     56962\n",
      "\n",
      "              precision    recall  f1-score   support\n",
      "\n",
      "           0       0.99      1.00      1.00     56873\n",
      "           1       1.00      0.99      1.00     56873\n",
      "\n",
      "    accuracy                           1.00    113746\n",
      "   macro avg       1.00      1.00      1.00    113746\n",
      "weighted avg       1.00      1.00      1.00    113746\n",
      "\n",
      "--- 1692.5953161716461 seconds ---\n"
     ]
    },
    {
     "data": {
      "text/plain": [
       "(0.997063633006875, 0.9947075061980202, 0.9958855696024476)"
      ]
     },
     "execution_count": 63,
     "metadata": {
      "tags": []
     },
     "output_type": "execute_result"
    }
   ],
   "source": [
    "from sklearn.ensemble import RandomForestClassifier\n",
    "from sklearn.linear_model import LogisticRegression\n",
    "estimators_smote_selected = [\n",
    "                #('Logis', LogisticRegression())#,\n",
    "                #('XGB', RandomSearch_XGB_smote_best_estimator),\n",
    "                #('Gra_Boost', Gra_best_estimator),\n",
    "                ('Ada_Boost', Ada_best_estimator),\n",
    "                ('RandomForest', RFC_best_estimator)                \n",
    "             ]\n",
    "             \n",
    "from sklearn.ensemble import StackingClassifier\n",
    "from sklearn.ensemble import RandomForestClassifier\n",
    "import time\n",
    "\n",
    "start_time = time.time()\n",
    "print(start_time)\n",
    "\n",
    "ST_RF_test1_smote_CV3_selected3=StackingClassifier(cv=5,\n",
    "                   estimators=estimators_smote_selected,\n",
    "                   final_estimator=LogisticRegression(),\n",
    "                   n_jobs=10, passthrough=False, stack_method='auto', verbose=2)\n",
    "ST_RF_test1_smote_CV3_selected3.fit(X_test1_smote, y_test1_res)\n",
    "print(\"--- %s seconds ---\" % (time.time() - start_time))\n",
    "\n",
    "# Evaluation\n",
    "from sklearn.metrics import roc_auc_score, confusion_matrix, classification_report, roc_curve, auc\n",
    "ST_RF_test2_smote_CV3_selected3_report =classification_report(y_test2,  ST_RF_test1_smote_CV3_selected3.predict(X_test2),  output_dict=True)\n",
    "print(ST_RF_test2_smote_CV3_selected3_report['0']['recall'], ST_RF_test2_smote_CV3_selected3_report['1']['recall'], ST_RF_test2_smote_CV3_selected3_report['macro avg']['recall'])\n",
    "print(classification_report(y_test2,  ST_RF_test1_smote_CV3_selected3.predict(X_test2)))\n",
    "print(classification_report(y_test1_res,  ST_RF_test1_smote_CV3_selected3.predict(X_test1_smote)))\n",
    "print(\"--- %s seconds ---\" % (time.time() - start_time))\n",
    "cla_random_ada_logis=classification_report(y_test1_res,  ST_RF_test1_smote_CV3_selected3.predict(X_test1_smote), output_dict=True)\n",
    "cla_random_ada_logis['0']['recall'], cla_random_ada_logis['1']['recall'], cla_random_ada_logis['weighted avg']['recall']\n"
   ]
  },
  {
   "cell_type": "code",
   "execution_count": null,
   "metadata": {
    "id": "EISvb9V34qCb"
   },
   "outputs": [],
   "source": []
  },
  {
   "cell_type": "markdown",
   "metadata": {
    "id": "rv-95voX5kzH"
   },
   "source": [
    "#### Training on non-smote Test1"
   ]
  },
  {
   "cell_type": "code",
   "execution_count": null,
   "metadata": {
    "colab": {
     "base_uri": "https://localhost:8080/"
    },
    "executionInfo": {
     "elapsed": 2788125,
     "status": "ok",
     "timestamp": 1607322032734,
     "user": {
      "displayName": "Yvonne Wu",
      "photoUrl": "",
      "userId": "01020686261312080072"
     },
     "user_tz": 480
    },
    "id": "gd6QEqn95h36",
    "outputId": "72cf61f1-d6a1-424e-f4bf-d8e5dbfeed20"
   },
   "outputs": [
    {
     "name": "stdout",
     "output_type": "stream",
     "text": [
      "1607321249.4323354\n",
      "--- 758.5185372829437 seconds ---\n",
      "0.9998768992684299 0.5306122448979592 0.7652445720831946\n",
      "              precision    recall  f1-score   support\n",
      "\n",
      "           0       1.00      1.00      1.00     56864\n",
      "           1       0.88      0.53      0.66        98\n",
      "\n",
      "    accuracy                           1.00     56962\n",
      "   macro avg       0.94      0.77      0.83     56962\n",
      "weighted avg       1.00      1.00      1.00     56962\n",
      "\n",
      "              precision    recall  f1-score   support\n",
      "\n",
      "           0       1.00      1.00      1.00     56873\n",
      "           1       1.00      0.82      0.90        88\n",
      "\n",
      "    accuracy                           1.00     56961\n",
      "   macro avg       1.00      0.91      0.95     56961\n",
      "weighted avg       1.00      1.00      1.00     56961\n",
      "\n",
      "--- 776.9966769218445 seconds ---\n"
     ]
    },
    {
     "data": {
      "text/plain": [
       "(1.0, 0.8181818181818182, 0.9997191060550201)"
      ]
     },
     "execution_count": 64,
     "metadata": {
      "tags": []
     },
     "output_type": "execute_result"
    }
   ],
   "source": [
    "from sklearn.ensemble import RandomForestClassifier\n",
    "from sklearn.linear_model import LogisticRegression\n",
    "estimators_smote_selected = [\n",
    "                #('Logis', LogisticRegression())#,\n",
    "                #('XGB', RandomSearch_XGB_smote_best_estimator),\n",
    "                #('Gra_Boost', Gra_best_estimator),\n",
    "                ('Ada_Boost', Ada_best_estimator),\n",
    "                ('RandomForest', RFC_best_estimator)                \n",
    "             ]\n",
    "             \n",
    "from sklearn.ensemble import StackingClassifier\n",
    "from sklearn.ensemble import RandomForestClassifier\n",
    "import time\n",
    "\n",
    "start_time = time.time()\n",
    "print(start_time)\n",
    "\n",
    "ST_RF_test1_smote_CV3_selected3=StackingClassifier(cv=5,\n",
    "                   estimators=estimators_smote_selected,\n",
    "                   final_estimator=LogisticRegression(),\n",
    "                   n_jobs=10, passthrough=False, stack_method='auto', verbose=2)\n",
    "ST_RF_test1_smote_CV3_selected3.fit(X_test1, y_test1)\n",
    "print(\"--- %s seconds ---\" % (time.time() - start_time))\n",
    "\n",
    "# Evaluation\n",
    "from sklearn.metrics import roc_auc_score, confusion_matrix, classification_report, roc_curve, auc\n",
    "ST_RF_test2_smote_CV3_selected3_report =classification_report(y_test2,  ST_RF_test1_smote_CV3_selected3.predict(X_test2),  output_dict=True)\n",
    "print(ST_RF_test2_smote_CV3_selected3_report['0']['recall'], ST_RF_test2_smote_CV3_selected3_report['1']['recall'], ST_RF_test2_smote_CV3_selected3_report['macro avg']['recall'])\n",
    "print(classification_report(y_test2,  ST_RF_test1_smote_CV3_selected3.predict(X_test2)))\n",
    "print(classification_report(y_test1,  ST_RF_test1_smote_CV3_selected3.predict(X_test1)))\n",
    "print(\"--- %s seconds ---\" % (time.time() - start_time))\n",
    "cla_random_ada_logis=classification_report(y_test1,  ST_RF_test1_smote_CV3_selected3.predict(X_test1), output_dict=True)\n",
    "cla_random_ada_logis['0']['recall'], cla_random_ada_logis['1']['recall'], cla_random_ada_logis['weighted avg']['recall']"
   ]
  },
  {
   "cell_type": "code",
   "execution_count": null,
   "metadata": {
    "colab": {
     "base_uri": "https://localhost:8080/"
    },
    "executionInfo": {
     "elapsed": 3169653,
     "status": "ok",
     "timestamp": 1607322414271,
     "user": {
      "displayName": "Yvonne Wu",
      "photoUrl": "",
      "userId": "01020686261312080072"
     },
     "user_tz": 480
    },
    "id": "CjvUmAYx-UbD",
    "outputId": "8ca30316-69c7-428f-a501-f9c06f282004"
   },
   "outputs": [
    {
     "name": "stdout",
     "output_type": "stream",
     "text": [
      "1607322032.4957905\n",
      "--- 381.4798412322998 seconds ---\n"
     ]
    }
   ],
   "source": [
    "from sklearn.ensemble import RandomForestClassifier\n",
    "from sklearn.linear_model import LogisticRegression\n",
    "estimators_smote_selected = [\n",
    "                #('Logis', LogisticRegression())#,\n",
    "                ('XGB', RandomSearch_XGB_smote_best_estimator),\n",
    "                #('Gra_Boost', Gra_best_estimator),\n",
    "                #('Ada_Boost', Ada_best_estimator),\n",
    "                ('RandomForest', RFC_best_estimator)                \n",
    "             ]\n",
    "             \n",
    "from sklearn.ensemble import StackingClassifier\n",
    "from sklearn.ensemble import RandomForestClassifier\n",
    "import time\n",
    "\n",
    "start_time = time.time()\n",
    "print(start_time)\n",
    "\n",
    "ST_RF_test1_smote_CV3_selected3=StackingClassifier(cv=5,\n",
    "                   estimators=estimators_smote_selected,\n",
    "                   final_estimator=LogisticRegression(),\n",
    "                   n_jobs=10, passthrough=False, stack_method='auto', verbose=2)\n",
    "ST_RF_test1_smote_CV3_selected3.fit(X_test1, y_test1)\n",
    "print(\"--- %s seconds ---\" % (time.time() - start_time))\n"
   ]
  },
  {
   "cell_type": "code",
   "execution_count": null,
   "metadata": {
    "colab": {
     "base_uri": "https://localhost:8080/"
    },
    "executionInfo": {
     "elapsed": 3180071,
     "status": "ok",
     "timestamp": 1607322424699,
     "user": {
      "displayName": "Yvonne Wu",
      "photoUrl": "",
      "userId": "01020686261312080072"
     },
     "user_tz": 480
    },
    "id": "CrsPm2Fr40-I",
    "outputId": "f0b139f9-7d97-4329-884d-2f6d1c03aedc"
   },
   "outputs": [
    {
     "name": "stdout",
     "output_type": "stream",
     "text": [
      "0.9998593134496342 0.6326530612244898 0.816256187337062\n",
      "              precision    recall  f1-score   support\n",
      "\n",
      "           0       1.00      1.00      1.00     56864\n",
      "           1       0.89      0.63      0.74        98\n",
      "\n",
      "    accuracy                           1.00     56962\n",
      "   macro avg       0.94      0.82      0.87     56962\n",
      "weighted avg       1.00      1.00      1.00     56962\n",
      "\n",
      "              precision    recall  f1-score   support\n",
      "\n",
      "           0       1.00      1.00      1.00     56873\n",
      "           1       1.00      0.85      0.92        88\n",
      "\n",
      "    accuracy                           1.00     56961\n",
      "   macro avg       1.00      0.93      0.96     56961\n",
      "weighted avg       1.00      1.00      1.00     56961\n",
      "\n",
      "--- 386.452486038208 seconds ---\n"
     ]
    },
    {
     "data": {
      "image/png": "[encoded data removed]",
      "text/plain": [
       "<Figure size 432x288 with 2 Axes>"
      ]
     },
     "metadata": {
      "needs_background": "light",
      "tags": []
     },
     "output_type": "display_data"
    }
   ],
   "source": [
    "\n",
    "# Evaluation\n",
    "from sklearn.metrics import roc_auc_score, confusion_matrix, classification_report, roc_curve, auc\n",
    "ST_RF_test2_smote_CV3_selected3_report =classification_report(y_test2,  ST_RF_test1_smote_CV3_selected3.predict(X_test2),  output_dict=True)\n",
    "print(ST_RF_test2_smote_CV3_selected3_report['0']['recall'], ST_RF_test2_smote_CV3_selected3_report['1']['recall'], ST_RF_test2_smote_CV3_selected3_report['macro avg']['recall'])\n",
    "print(classification_report(y_test2,  ST_RF_test1_smote_CV3_selected3.predict(X_test2)))\n",
    "print(classification_report(y_test1,  ST_RF_test1_smote_CV3_selected3.predict(X_test1)))\n",
    "print(\"--- %s seconds ---\" % (time.time() - start_time))\n",
    "\n",
    "cla_random_ada_logis=classification_report(y_test1,  ST_RF_test1_smote_CV3_selected3.predict(X_test1), output_dict=True)\n",
    "cla_random_ada_logis['0']['recall'], cla_random_ada_logis['1']['recall'], cla_random_ada_logis['weighted avg']['recall']\n",
    "\n",
    "# Create Confusion Matrix\n",
    "optimizedAdaMatrix = confusion_matrix(y_test,ST_RF_test1_smote_CV3_selected3.predict(X_test))\n",
    "\n",
    "# Create label names\n",
    "group_names = ['True Neg','False Pos','False Neg','True Pos']\n",
    "\n",
    "# Extract counts from basic matrix arrays\n",
    "group_counts = [\"{0:0.0f}\".format(value) for value in\n",
    "                optimizedAdaMatrix.flatten()]\n",
    "\n",
    "# Calculate percentages\n",
    "group_percentages = [\"{0:.2%}\".format(value) for value in\n",
    "                     optimizedAdaMatrix.flatten()/np.sum(optimizedAdaMatrix)]\n",
    "\n",
    "# Create actual labels by zipping together previous lists\n",
    "labels = [f\"{v1}\\n{v2}\\n{v3}\" for v1, v2, v3 in\n",
    "          zip(group_names,group_counts,group_percentages)]\n",
    "labels = np.asarray(labels).reshape(2,2)\n",
    "\n",
    "# Create heatmap\n",
    "sns.heatmap(optimizedAdaMatrix, annot=labels, fmt='', cmap='Greens')\n",
    "plt.tight_layout()\n",
    "plt.title('Confusion matrix', y=1.1)\n",
    "plt.ylabel('Actual class')\n",
    "plt.xlabel('Predicted class')\n",
    "pass"
   ]
  },
  {
   "cell_type": "code",
   "execution_count": null,
   "metadata": {
    "colab": {
     "base_uri": "https://localhost:8080/"
    },
    "executionInfo": {
     "elapsed": 3486006,
     "status": "ok",
     "timestamp": 1607322730644,
     "user": {
      "displayName": "Yvonne Wu",
      "photoUrl": "",
      "userId": "01020686261312080072"
     },
     "user_tz": 480
    },
    "id": "KhAJsis5xrO8",
    "outputId": "e14f0ea1-c973-4384-e32b-9ab0043718c3"
   },
   "outputs": [
    {
     "name": "stdout",
     "output_type": "stream",
     "text": [
      "1607322424.4583871\n",
      "--- 297.244277715683 seconds ---\n",
      "0.9998065559932471 0.673469387755102 0.8366379718741745\n",
      "              precision    recall  f1-score   support\n",
      "\n",
      "           0       1.00      1.00      1.00     56864\n",
      "           1       0.86      0.67      0.75        98\n",
      "\n",
      "    accuracy                           1.00     56962\n",
      "   macro avg       0.93      0.84      0.88     56962\n",
      "weighted avg       1.00      1.00      1.00     56962\n",
      "\n",
      "              precision    recall  f1-score   support\n",
      "\n",
      "           0       1.00      1.00      1.00     56873\n",
      "           1       1.00      0.83      0.91        88\n",
      "\n",
      "    accuracy                           1.00     56961\n",
      "   macro avg       1.00      0.91      0.95     56961\n",
      "weighted avg       1.00      1.00      1.00     56961\n",
      "\n",
      "--- 301.38729453086853 seconds ---\n"
     ]
    },
    {
     "data": {
      "image/png": "[encoded data removed]",
      "text/plain": [
       "<Figure size 432x288 with 2 Axes>"
      ]
     },
     "metadata": {
      "needs_background": "light",
      "tags": []
     },
     "output_type": "display_data"
    }
   ],
   "source": [
    "from sklearn.ensemble import RandomForestClassifier\n",
    "from sklearn.linear_model import LogisticRegression\n",
    "estimators_smote_selected = [\n",
    "                #('Logis', LogisticRegression())#,\n",
    "                #('XGB', RandomSearch_XGB_smote_best_estimator),\n",
    "                #('Gra_Boost', Gra_best_estimator),\n",
    "                #('Ada_Boost', Ada_best_estimator),\n",
    "                ('RandomForest', RFC_best_estimator)                \n",
    "             ]\n",
    "             \n",
    "from sklearn.ensemble import StackingClassifier\n",
    "from sklearn.ensemble import RandomForestClassifier\n",
    "import time\n",
    "\n",
    "start_time = time.time()\n",
    "print(start_time)\n",
    "\n",
    "ST_RF_test1_smote_CV3_selected3=StackingClassifier(cv=5,\n",
    "                   estimators=estimators_smote_selected,\n",
    "                   final_estimator=XGBClassifier(),\n",
    "                   n_jobs=10, passthrough=False, stack_method='auto', verbose=2)\n",
    "ST_RF_test1_smote_CV3_selected3.fit(X_test1, y_test1)\n",
    "print(\"--- %s seconds ---\" % (time.time() - start_time))\n",
    "\n",
    "\n",
    "# Evaluation\n",
    "from sklearn.metrics import roc_auc_score, confusion_matrix, classification_report, roc_curve, auc\n",
    "ST_RF_test2_smote_CV3_selected3_report =classification_report(y_test2,  ST_RF_test1_smote_CV3_selected3.predict(X_test2),  output_dict=True)\n",
    "print(ST_RF_test2_smote_CV3_selected3_report['0']['recall'], ST_RF_test2_smote_CV3_selected3_report['1']['recall'], ST_RF_test2_smote_CV3_selected3_report['macro avg']['recall'])\n",
    "print(classification_report(y_test2,  ST_RF_test1_smote_CV3_selected3.predict(X_test2)))\n",
    "print(classification_report(y_test1,  ST_RF_test1_smote_CV3_selected3.predict(X_test1)))\n",
    "print(\"--- %s seconds ---\" % (time.time() - start_time))\n",
    "\n",
    "cla_random_ada_logis=classification_report(y_test1,  ST_RF_test1_smote_CV3_selected3.predict(X_test1), output_dict=True)\n",
    "cla_random_ada_logis['0']['recall'], cla_random_ada_logis['1']['recall'], cla_random_ada_logis['weighted avg']['recall']\n",
    "\n",
    "# Create Confusion Matrix\n",
    "optimizedAdaMatrix = confusion_matrix(y_test,ST_RF_test1_smote_CV3_selected3.predict(X_test))\n",
    "\n",
    "# Create label names\n",
    "group_names = ['True Neg','False Pos','False Neg','True Pos']\n",
    "\n",
    "# Extract counts from basic matrix arrays\n",
    "group_counts = [\"{0:0.0f}\".format(value) for value in\n",
    "                optimizedAdaMatrix.flatten()]\n",
    "\n",
    "# Calculate percentages\n",
    "group_percentages = [\"{0:.2%}\".format(value) for value in\n",
    "                     optimizedAdaMatrix.flatten()/np.sum(optimizedAdaMatrix)]\n",
    "\n",
    "# Create actual labels by zipping together previous lists\n",
    "labels = [f\"{v1}\\n{v2}\\n{v3}\" for v1, v2, v3 in\n",
    "          zip(group_names,group_counts,group_percentages)]\n",
    "labels = np.asarray(labels).reshape(2,2)\n",
    "\n",
    "# Create heatmap\n",
    "sns.heatmap(optimizedAdaMatrix, annot=labels, fmt='', cmap='Greens')\n",
    "plt.tight_layout()\n",
    "plt.title('Confusion matrix', y=1.1)\n",
    "plt.ylabel('Actual class')\n",
    "plt.xlabel('Predicted class')\n",
    "pass"
   ]
  },
  {
   "cell_type": "code",
   "execution_count": null,
   "metadata": {
    "colab": {
     "base_uri": "https://localhost:8080/"
    },
    "executionInfo": {
     "elapsed": 3580976,
     "status": "ok",
     "timestamp": 1607322825622,
     "user": {
      "displayName": "Yvonne Wu",
      "photoUrl": "",
      "userId": "01020686261312080072"
     },
     "user_tz": 480
    },
    "id": "bJx7SaTt18vr",
    "outputId": "7eac8d58-9fe3-4427-d615-6cacf23bb5d2"
   },
   "outputs": [
    {
     "name": "stdout",
     "output_type": "stream",
     "text": [
      "1607322730.3887336\n",
      "--- 90.5116696357727 seconds ---\n",
      "0.9997537985368599 0.6530612244897959 0.8264075115133278\n",
      "              precision    recall  f1-score   support\n",
      "\n",
      "           0       1.00      1.00      1.00     56864\n",
      "           1       0.82      0.65      0.73        98\n",
      "\n",
      "    accuracy                           1.00     56962\n",
      "   macro avg       0.91      0.83      0.86     56962\n",
      "weighted avg       1.00      1.00      1.00     56962\n",
      "\n",
      "              precision    recall  f1-score   support\n",
      "\n",
      "           0       1.00      1.00      1.00     56873\n",
      "           1       1.00      0.99      0.99        88\n",
      "\n",
      "    accuracy                           1.00     56961\n",
      "   macro avg       1.00      0.99      1.00     56961\n",
      "weighted avg       1.00      1.00      1.00     56961\n",
      "\n",
      "--- 92.6548810005188 seconds ---\n"
     ]
    },
    {
     "data": {
      "image/png": "[encoded data removed]",
      "text/plain": [
       "<Figure size 432x288 with 2 Axes>"
      ]
     },
     "metadata": {
      "needs_background": "light",
      "tags": []
     },
     "output_type": "display_data"
    }
   ],
   "source": [
    "from sklearn.ensemble import RandomForestClassifier\n",
    "from sklearn.linear_model import LogisticRegression\n",
    "estimators_smote_selected = [\n",
    "                #('Logis', LogisticRegression())#,\n",
    "                ('XGB', RandomSearch_XGB_smote_best_estimator)#,\n",
    "                #('Gra_Boost', Gra_best_estimator),\n",
    "                #('Ada_Boost', Ada_best_estimator),\n",
    "                #('RandomForest', RFC_best_estimator)                \n",
    "             ]\n",
    "             \n",
    "from sklearn.ensemble import StackingClassifier\n",
    "from sklearn.ensemble import RandomForestClassifier\n",
    "import time\n",
    "\n",
    "start_time = time.time()\n",
    "print(start_time)\n",
    "\n",
    "ST_RF_test1_smote_CV3_selected3=StackingClassifier(cv=5,\n",
    "                   estimators=estimators_smote_selected,\n",
    "                   final_estimator=RandomForestClassifier(),\n",
    "                   n_jobs=10, passthrough=False, stack_method='auto', verbose=2)\n",
    "ST_RF_test1_smote_CV3_selected3.fit(X_test1, y_test1)\n",
    "print(\"--- %s seconds ---\" % (time.time() - start_time))\n",
    "\n",
    "\n",
    "# Evaluation\n",
    "from sklearn.metrics import roc_auc_score, confusion_matrix, classification_report, roc_curve, auc\n",
    "ST_RF_test2_smote_CV3_selected3_report =classification_report(y_test2,  ST_RF_test1_smote_CV3_selected3.predict(X_test2),  output_dict=True)\n",
    "print(ST_RF_test2_smote_CV3_selected3_report['0']['recall'], ST_RF_test2_smote_CV3_selected3_report['1']['recall'], ST_RF_test2_smote_CV3_selected3_report['macro avg']['recall'])\n",
    "print(classification_report(y_test2,  ST_RF_test1_smote_CV3_selected3.predict(X_test2)))\n",
    "print(classification_report(y_test1,  ST_RF_test1_smote_CV3_selected3.predict(X_test1)))\n",
    "print(\"--- %s seconds ---\" % (time.time() - start_time))\n",
    "\n",
    "cla_random_ada_logis=classification_report(y_test1,  ST_RF_test1_smote_CV3_selected3.predict(X_test1), output_dict=True)\n",
    "cla_random_ada_logis['0']['recall'], cla_random_ada_logis['1']['recall'], cla_random_ada_logis['weighted avg']['recall']\n",
    "\n",
    "# Create Confusion Matrix\n",
    "optimizedAdaMatrix = confusion_matrix(y_test,ST_RF_test1_smote_CV3_selected3.predict(X_test))\n",
    "\n",
    "# Create label names\n",
    "group_names = ['True Neg','False Pos','False Neg','True Pos']\n",
    "\n",
    "# Extract counts from basic matrix arrays\n",
    "group_counts = [\"{0:0.0f}\".format(value) for value in\n",
    "                optimizedAdaMatrix.flatten()]\n",
    "\n",
    "# Calculate percentages\n",
    "group_percentages = [\"{0:.2%}\".format(value) for value in\n",
    "                     optimizedAdaMatrix.flatten()/np.sum(optimizedAdaMatrix)]\n",
    "\n",
    "# Create actual labels by zipping together previous lists\n",
    "labels = [f\"{v1}\\n{v2}\\n{v3}\" for v1, v2, v3 in\n",
    "          zip(group_names,group_counts,group_percentages)]\n",
    "labels = np.asarray(labels).reshape(2,2)\n",
    "\n",
    "# Create heatmap\n",
    "sns.heatmap(optimizedAdaMatrix, annot=labels, fmt='', cmap='Greens')\n",
    "plt.tight_layout()\n",
    "plt.title('Confusion matrix', y=1.1)\n",
    "plt.ylabel('Actual class')\n",
    "plt.xlabel('Predicted class')\n",
    "pass"
   ]
  },
  {
   "cell_type": "markdown",
   "metadata": {
    "id": "QaPUrihpUtBS"
   },
   "source": [
    "#### Ada, Random, XGB"
   ]
  },
  {
   "cell_type": "code",
   "execution_count": 16,
   "metadata": {
    "colab": {
     "base_uri": "https://localhost:8080/",
     "height": 0
    },
    "executionInfo": {
     "elapsed": 811702,
     "status": "ok",
     "timestamp": 1607397809513,
     "user": {
      "displayName": "Yvonne Wu",
      "photoUrl": "",
      "userId": "01020686261312080072"
     },
     "user_tz": 480
    },
    "id": "dTEVj_npUsLh",
    "outputId": "4dc06acc-0a6f-4e86-d47c-cb68bea35ae9"
   },
   "outputs": [
    {
     "name": "stdout",
     "output_type": "stream",
     "text": [
      "1607396998.6969457\n",
      "--- 772.8982357978821 seconds ---\n",
      "0.9998593134496342 0.7142857142857143 0.8570725138676742\n",
      "              precision    recall  f1-score   support\n",
      "\n",
      "           0       1.00      1.00      1.00     56864\n",
      "           1       0.90      0.71      0.80        98\n",
      "\n",
      "    accuracy                           1.00     56962\n",
      "   macro avg       0.95      0.86      0.90     56962\n",
      "weighted avg       1.00      1.00      1.00     56962\n",
      "\n",
      "              precision    recall  f1-score   support\n",
      "\n",
      "           0       1.00      1.00      1.00     56873\n",
      "           1       1.00      0.93      0.96        88\n",
      "\n",
      "    accuracy                           1.00     56961\n",
      "   macro avg       1.00      0.97      0.98     56961\n",
      "weighted avg       1.00      1.00      1.00     56961\n",
      "\n",
      "--- 792.0403244495392 seconds ---\n"
     ]
    },
    {
     "data": {
      "image/png": "[encoded data removed]",
      "text/plain": [
       "<Figure size 432x288 with 2 Axes>"
      ]
     },
     "metadata": {
      "needs_background": "light",
      "tags": []
     },
     "output_type": "display_data"
    }
   ],
   "source": [
    "from sklearn.ensemble import RandomForestClassifier\n",
    "from sklearn.linear_model import LogisticRegression\n",
    "estimators_smote_selected = [\n",
    "                #('Logis', LogisticRegression())#,\n",
    "                #('XGB', RandomSearch_XGB_smote_best_estimator)#,\n",
    "                #('Gra_Boost', Gra_best_estimator),\n",
    "                ('Ada_Boost', Ada_best_estimator),\n",
    "                ('RandomForest', RFC_best_estimator)                \n",
    "             ]\n",
    "             \n",
    "from sklearn.ensemble import StackingClassifier\n",
    "from sklearn.ensemble import RandomForestClassifier\n",
    "import time\n",
    "\n",
    "start_time = time.time()\n",
    "print(start_time)\n",
    "\n",
    "ST_RF_test1_smote_CV3_selected3=StackingClassifier(cv=5,\n",
    "                   estimators=estimators_smote_selected,\n",
    "                   final_estimator=XGBClassifier(),\n",
    "                   n_jobs=10, passthrough=False, stack_method='auto', verbose=2)\n",
    "ST_RF_test1_smote_CV3_selected3.fit(X_test1, y_test1)\n",
    "print(\"--- %s seconds ---\" % (time.time() - start_time))\n",
    "\n",
    "\n",
    "# Evaluation\n",
    "from sklearn.metrics import roc_auc_score, confusion_matrix, classification_report, roc_curve, auc\n",
    "ST_RF_test2_smote_CV3_selected3_report =classification_report(y_test2,  ST_RF_test1_smote_CV3_selected3.predict(X_test2),  output_dict=True)\n",
    "print(ST_RF_test2_smote_CV3_selected3_report['0']['recall'], ST_RF_test2_smote_CV3_selected3_report['1']['recall'], ST_RF_test2_smote_CV3_selected3_report['macro avg']['recall'])\n",
    "print(classification_report(y_test2,  ST_RF_test1_smote_CV3_selected3.predict(X_test2)))\n",
    "print(classification_report(y_test1,  ST_RF_test1_smote_CV3_selected3.predict(X_test1)))\n",
    "print(\"--- %s seconds ---\" % (time.time() - start_time))\n",
    "\n",
    "cla_random_ada_logis=classification_report(y_test1,  ST_RF_test1_smote_CV3_selected3.predict(X_test1), output_dict=True)\n",
    "cla_random_ada_logis['0']['recall'], cla_random_ada_logis['1']['recall'], cla_random_ada_logis['weighted avg']['recall']\n",
    "\n",
    "# Create Confusion Matrix\n",
    "optimizedAdaMatrix = confusion_matrix(y_test,ST_RF_test1_smote_CV3_selected3.predict(X_test))\n",
    "\n",
    "# Create label names\n",
    "group_names = ['True Neg','False Pos','False Neg','True Pos']\n",
    "\n",
    "# Extract counts from basic matrix arrays\n",
    "group_counts = [\"{0:0.0f}\".format(value) for value in\n",
    "                optimizedAdaMatrix.flatten()]\n",
    "\n",
    "# Calculate percentages\n",
    "group_percentages = [\"{0:.2%}\".format(value) for value in\n",
    "                     optimizedAdaMatrix.flatten()/np.sum(optimizedAdaMatrix)]\n",
    "\n",
    "# Create actual labels by zipping together previous lists\n",
    "labels = [f\"{v1}\\n{v2}\\n{v3}\" for v1, v2, v3 in\n",
    "          zip(group_names,group_counts,group_percentages)]\n",
    "labels = np.asarray(labels).reshape(2,2)\n",
    "\n",
    "# Create heatmap\n",
    "sns.heatmap(optimizedAdaMatrix, annot=labels, fmt='', cmap='Greens')\n",
    "plt.tight_layout()\n",
    "plt.title('Confusion matrix', y=1.1)\n",
    "plt.ylabel('Actual class')\n",
    "plt.xlabel('Predicted class')\n",
    "pass"
   ]
  }
 ],
 "metadata": {
  "colab": {
   "authorship_tag": "ABX9TyMo0LlrpQC3TDbvXK2PPIcP",
   "name": "Course Project 3nd Stacking with test2.ipynb",
   "provenance": [
    {
     "file_id": "1IIp5c3wkSmaeTRx6dKnP-r6QI3oYXP2P",
     "timestamp": 1606281883338
    }
   ],
   "toc_visible": true
  },
  "kernelspec": {
   "display_name": "Python 3",
   "language": "python",
   "name": "python3"
  },
  "language_info": {
   "codemirror_mode": {
    "name": "ipython",
    "version": 3
   },
   "file_extension": ".py",
   "mimetype": "text/x-python",
   "name": "python",
   "nbconvert_exporter": "python",
   "pygments_lexer": "ipython3",
   "version": "3.7.3"
  }
 },
 "nbformat": 4,
 "nbformat_minor": 1
}
