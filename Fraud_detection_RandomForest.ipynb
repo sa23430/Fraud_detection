{
 "cells": [
  {
   "cell_type": "markdown",
   "metadata": {},
   "source": [
    "## Machine learning - Final Project - Classify Fraud/Non-Fraud transactions "
   ]
  },
  {
   "cell_type": "markdown",
   "metadata": {},
   "source": [
    "### Final Report\n",
    "\n",
    "#### With SMOTE DATA - BEST MODEL - GRIDSEARCH HYPER PARAMETERS\n",
    "best_model=RandomForestClassifier(max_depth=6, max_features= 'sqrt', n_estimators=250,random_state=123)\n",
    "\n",
    "#### Best 5 Features in the order of feature importance\n",
    "V14,V10,V11,V12,V17\n",
    "\n",
    "#### Recall of Fraud class = 0.84, Macro Average = 0.92\n"
   ]
  },
  {
   "cell_type": "code",
   "execution_count": 1,
   "metadata": {},
   "outputs": [],
   "source": [
    "import pandas as pd\n",
    "import numpy as np"
   ]
  },
  {
   "cell_type": "code",
   "execution_count": 2,
   "metadata": {},
   "outputs": [],
   "source": [
    "data=pd.read_csv('C:/Users/p_adu/Desktop/creditcard.csv')"
   ]
  },
  {
   "cell_type": "code",
   "execution_count": 3,
   "metadata": {},
   "outputs": [
    {
     "data": {
      "text/html": [
       "<div>\n",
       "<style scoped>\n",
       "    .dataframe tbody tr th:only-of-type {\n",
       "        vertical-align: middle;\n",
       "    }\n",
       "\n",
       "    .dataframe tbody tr th {\n",
       "        vertical-align: top;\n",
       "    }\n",
       "\n",
       "    .dataframe thead th {\n",
       "        text-align: right;\n",
       "    }\n",
       "</style>\n",
       "<table border=\"1\" class=\"dataframe\">\n",
       "  <thead>\n",
       "    <tr style=\"text-align: right;\">\n",
       "      <th></th>\n",
       "      <th>Time</th>\n",
       "      <th>V1</th>\n",
       "      <th>V2</th>\n",
       "      <th>V3</th>\n",
       "      <th>V4</th>\n",
       "      <th>V5</th>\n",
       "      <th>V6</th>\n",
       "      <th>V7</th>\n",
       "      <th>V8</th>\n",
       "      <th>V9</th>\n",
       "      <th>...</th>\n",
       "      <th>V21</th>\n",
       "      <th>V22</th>\n",
       "      <th>V23</th>\n",
       "      <th>V24</th>\n",
       "      <th>V25</th>\n",
       "      <th>V26</th>\n",
       "      <th>V27</th>\n",
       "      <th>V28</th>\n",
       "      <th>Amount</th>\n",
       "      <th>Class</th>\n",
       "    </tr>\n",
       "  </thead>\n",
       "  <tbody>\n",
       "    <tr>\n",
       "      <th>0</th>\n",
       "      <td>0.0</td>\n",
       "      <td>-1.359807</td>\n",
       "      <td>-0.072781</td>\n",
       "      <td>2.536347</td>\n",
       "      <td>1.378155</td>\n",
       "      <td>-0.338321</td>\n",
       "      <td>0.462388</td>\n",
       "      <td>0.239599</td>\n",
       "      <td>0.098698</td>\n",
       "      <td>0.363787</td>\n",
       "      <td>...</td>\n",
       "      <td>-0.018307</td>\n",
       "      <td>0.277838</td>\n",
       "      <td>-0.110474</td>\n",
       "      <td>0.066928</td>\n",
       "      <td>0.128539</td>\n",
       "      <td>-0.189115</td>\n",
       "      <td>0.133558</td>\n",
       "      <td>-0.021053</td>\n",
       "      <td>149.62</td>\n",
       "      <td>0</td>\n",
       "    </tr>\n",
       "    <tr>\n",
       "      <th>1</th>\n",
       "      <td>0.0</td>\n",
       "      <td>1.191857</td>\n",
       "      <td>0.266151</td>\n",
       "      <td>0.166480</td>\n",
       "      <td>0.448154</td>\n",
       "      <td>0.060018</td>\n",
       "      <td>-0.082361</td>\n",
       "      <td>-0.078803</td>\n",
       "      <td>0.085102</td>\n",
       "      <td>-0.255425</td>\n",
       "      <td>...</td>\n",
       "      <td>-0.225775</td>\n",
       "      <td>-0.638672</td>\n",
       "      <td>0.101288</td>\n",
       "      <td>-0.339846</td>\n",
       "      <td>0.167170</td>\n",
       "      <td>0.125895</td>\n",
       "      <td>-0.008983</td>\n",
       "      <td>0.014724</td>\n",
       "      <td>2.69</td>\n",
       "      <td>0</td>\n",
       "    </tr>\n",
       "    <tr>\n",
       "      <th>2</th>\n",
       "      <td>1.0</td>\n",
       "      <td>-1.358354</td>\n",
       "      <td>-1.340163</td>\n",
       "      <td>1.773209</td>\n",
       "      <td>0.379780</td>\n",
       "      <td>-0.503198</td>\n",
       "      <td>1.800499</td>\n",
       "      <td>0.791461</td>\n",
       "      <td>0.247676</td>\n",
       "      <td>-1.514654</td>\n",
       "      <td>...</td>\n",
       "      <td>0.247998</td>\n",
       "      <td>0.771679</td>\n",
       "      <td>0.909412</td>\n",
       "      <td>-0.689281</td>\n",
       "      <td>-0.327642</td>\n",
       "      <td>-0.139097</td>\n",
       "      <td>-0.055353</td>\n",
       "      <td>-0.059752</td>\n",
       "      <td>378.66</td>\n",
       "      <td>0</td>\n",
       "    </tr>\n",
       "    <tr>\n",
       "      <th>3</th>\n",
       "      <td>1.0</td>\n",
       "      <td>-0.966272</td>\n",
       "      <td>-0.185226</td>\n",
       "      <td>1.792993</td>\n",
       "      <td>-0.863291</td>\n",
       "      <td>-0.010309</td>\n",
       "      <td>1.247203</td>\n",
       "      <td>0.237609</td>\n",
       "      <td>0.377436</td>\n",
       "      <td>-1.387024</td>\n",
       "      <td>...</td>\n",
       "      <td>-0.108300</td>\n",
       "      <td>0.005274</td>\n",
       "      <td>-0.190321</td>\n",
       "      <td>-1.175575</td>\n",
       "      <td>0.647376</td>\n",
       "      <td>-0.221929</td>\n",
       "      <td>0.062723</td>\n",
       "      <td>0.061458</td>\n",
       "      <td>123.50</td>\n",
       "      <td>0</td>\n",
       "    </tr>\n",
       "    <tr>\n",
       "      <th>4</th>\n",
       "      <td>2.0</td>\n",
       "      <td>-1.158233</td>\n",
       "      <td>0.877737</td>\n",
       "      <td>1.548718</td>\n",
       "      <td>0.403034</td>\n",
       "      <td>-0.407193</td>\n",
       "      <td>0.095921</td>\n",
       "      <td>0.592941</td>\n",
       "      <td>-0.270533</td>\n",
       "      <td>0.817739</td>\n",
       "      <td>...</td>\n",
       "      <td>-0.009431</td>\n",
       "      <td>0.798278</td>\n",
       "      <td>-0.137458</td>\n",
       "      <td>0.141267</td>\n",
       "      <td>-0.206010</td>\n",
       "      <td>0.502292</td>\n",
       "      <td>0.219422</td>\n",
       "      <td>0.215153</td>\n",
       "      <td>69.99</td>\n",
       "      <td>0</td>\n",
       "    </tr>\n",
       "  </tbody>\n",
       "</table>\n",
       "<p>5 rows × 31 columns</p>\n",
       "</div>"
      ],
      "text/plain": [
       "   Time        V1        V2        V3        V4        V5        V6        V7  \\\n",
       "0   0.0 -1.359807 -0.072781  2.536347  1.378155 -0.338321  0.462388  0.239599   \n",
       "1   0.0  1.191857  0.266151  0.166480  0.448154  0.060018 -0.082361 -0.078803   \n",
       "2   1.0 -1.358354 -1.340163  1.773209  0.379780 -0.503198  1.800499  0.791461   \n",
       "3   1.0 -0.966272 -0.185226  1.792993 -0.863291 -0.010309  1.247203  0.237609   \n",
       "4   2.0 -1.158233  0.877737  1.548718  0.403034 -0.407193  0.095921  0.592941   \n",
       "\n",
       "         V8        V9  ...       V21       V22       V23       V24       V25  \\\n",
       "0  0.098698  0.363787  ... -0.018307  0.277838 -0.110474  0.066928  0.128539   \n",
       "1  0.085102 -0.255425  ... -0.225775 -0.638672  0.101288 -0.339846  0.167170   \n",
       "2  0.247676 -1.514654  ...  0.247998  0.771679  0.909412 -0.689281 -0.327642   \n",
       "3  0.377436 -1.387024  ... -0.108300  0.005274 -0.190321 -1.175575  0.647376   \n",
       "4 -0.270533  0.817739  ... -0.009431  0.798278 -0.137458  0.141267 -0.206010   \n",
       "\n",
       "        V26       V27       V28  Amount  Class  \n",
       "0 -0.189115  0.133558 -0.021053  149.62      0  \n",
       "1  0.125895 -0.008983  0.014724    2.69      0  \n",
       "2 -0.139097 -0.055353 -0.059752  378.66      0  \n",
       "3 -0.221929  0.062723  0.061458  123.50      0  \n",
       "4  0.502292  0.219422  0.215153   69.99      0  \n",
       "\n",
       "[5 rows x 31 columns]"
      ]
     },
     "execution_count": 3,
     "metadata": {},
     "output_type": "execute_result"
    }
   ],
   "source": [
    "data.head(5)"
   ]
  },
  {
   "cell_type": "code",
   "execution_count": 4,
   "metadata": {},
   "outputs": [],
   "source": [
    "y=data[['Class']]\n",
    "X=data.drop('Class',axis=1)\n"
   ]
  },
  {
   "cell_type": "code",
   "execution_count": 5,
   "metadata": {},
   "outputs": [],
   "source": [
    "def time(sec):\n",
    "    day = sec // 86400 + 1\n",
    "    if day <= 1:\n",
    "        return round((sec / 60 / 60),2)\n",
    "    else:\n",
    "        return round(((sec - (24*60*60*(day-1))) / 60 / 60),2)\n",
    "\n",
    "X['Time'] = X.apply(lambda row: time(row['Time']), axis=1)"
   ]
  },
  {
   "cell_type": "code",
   "execution_count": 7,
   "metadata": {},
   "outputs": [
    {
     "data": {
      "text/html": [
       "<div>\n",
       "<style scoped>\n",
       "    .dataframe tbody tr th:only-of-type {\n",
       "        vertical-align: middle;\n",
       "    }\n",
       "\n",
       "    .dataframe tbody tr th {\n",
       "        vertical-align: top;\n",
       "    }\n",
       "\n",
       "    .dataframe thead th {\n",
       "        text-align: right;\n",
       "    }\n",
       "</style>\n",
       "<table border=\"1\" class=\"dataframe\">\n",
       "  <thead>\n",
       "    <tr style=\"text-align: right;\">\n",
       "      <th></th>\n",
       "      <th>Time</th>\n",
       "      <th>V1</th>\n",
       "      <th>V2</th>\n",
       "      <th>V3</th>\n",
       "      <th>V4</th>\n",
       "      <th>V5</th>\n",
       "      <th>V6</th>\n",
       "      <th>V7</th>\n",
       "      <th>V8</th>\n",
       "      <th>V9</th>\n",
       "      <th>...</th>\n",
       "      <th>V20</th>\n",
       "      <th>V21</th>\n",
       "      <th>V22</th>\n",
       "      <th>V23</th>\n",
       "      <th>V24</th>\n",
       "      <th>V25</th>\n",
       "      <th>V26</th>\n",
       "      <th>V27</th>\n",
       "      <th>V28</th>\n",
       "      <th>Amount</th>\n",
       "    </tr>\n",
       "  </thead>\n",
       "  <tbody>\n",
       "    <tr>\n",
       "      <th>0</th>\n",
       "      <td>0.0</td>\n",
       "      <td>-1.359807</td>\n",
       "      <td>-0.072781</td>\n",
       "      <td>2.536347</td>\n",
       "      <td>1.378155</td>\n",
       "      <td>-0.338321</td>\n",
       "      <td>0.462388</td>\n",
       "      <td>0.239599</td>\n",
       "      <td>0.098698</td>\n",
       "      <td>0.363787</td>\n",
       "      <td>...</td>\n",
       "      <td>0.251412</td>\n",
       "      <td>-0.018307</td>\n",
       "      <td>0.277838</td>\n",
       "      <td>-0.110474</td>\n",
       "      <td>0.066928</td>\n",
       "      <td>0.128539</td>\n",
       "      <td>-0.189115</td>\n",
       "      <td>0.133558</td>\n",
       "      <td>-0.021053</td>\n",
       "      <td>149.62</td>\n",
       "    </tr>\n",
       "    <tr>\n",
       "      <th>1</th>\n",
       "      <td>0.0</td>\n",
       "      <td>1.191857</td>\n",
       "      <td>0.266151</td>\n",
       "      <td>0.166480</td>\n",
       "      <td>0.448154</td>\n",
       "      <td>0.060018</td>\n",
       "      <td>-0.082361</td>\n",
       "      <td>-0.078803</td>\n",
       "      <td>0.085102</td>\n",
       "      <td>-0.255425</td>\n",
       "      <td>...</td>\n",
       "      <td>-0.069083</td>\n",
       "      <td>-0.225775</td>\n",
       "      <td>-0.638672</td>\n",
       "      <td>0.101288</td>\n",
       "      <td>-0.339846</td>\n",
       "      <td>0.167170</td>\n",
       "      <td>0.125895</td>\n",
       "      <td>-0.008983</td>\n",
       "      <td>0.014724</td>\n",
       "      <td>2.69</td>\n",
       "    </tr>\n",
       "    <tr>\n",
       "      <th>2</th>\n",
       "      <td>0.0</td>\n",
       "      <td>-1.358354</td>\n",
       "      <td>-1.340163</td>\n",
       "      <td>1.773209</td>\n",
       "      <td>0.379780</td>\n",
       "      <td>-0.503198</td>\n",
       "      <td>1.800499</td>\n",
       "      <td>0.791461</td>\n",
       "      <td>0.247676</td>\n",
       "      <td>-1.514654</td>\n",
       "      <td>...</td>\n",
       "      <td>0.524980</td>\n",
       "      <td>0.247998</td>\n",
       "      <td>0.771679</td>\n",
       "      <td>0.909412</td>\n",
       "      <td>-0.689281</td>\n",
       "      <td>-0.327642</td>\n",
       "      <td>-0.139097</td>\n",
       "      <td>-0.055353</td>\n",
       "      <td>-0.059752</td>\n",
       "      <td>378.66</td>\n",
       "    </tr>\n",
       "    <tr>\n",
       "      <th>3</th>\n",
       "      <td>0.0</td>\n",
       "      <td>-0.966272</td>\n",
       "      <td>-0.185226</td>\n",
       "      <td>1.792993</td>\n",
       "      <td>-0.863291</td>\n",
       "      <td>-0.010309</td>\n",
       "      <td>1.247203</td>\n",
       "      <td>0.237609</td>\n",
       "      <td>0.377436</td>\n",
       "      <td>-1.387024</td>\n",
       "      <td>...</td>\n",
       "      <td>-0.208038</td>\n",
       "      <td>-0.108300</td>\n",
       "      <td>0.005274</td>\n",
       "      <td>-0.190321</td>\n",
       "      <td>-1.175575</td>\n",
       "      <td>0.647376</td>\n",
       "      <td>-0.221929</td>\n",
       "      <td>0.062723</td>\n",
       "      <td>0.061458</td>\n",
       "      <td>123.50</td>\n",
       "    </tr>\n",
       "    <tr>\n",
       "      <th>4</th>\n",
       "      <td>0.0</td>\n",
       "      <td>-1.158233</td>\n",
       "      <td>0.877737</td>\n",
       "      <td>1.548718</td>\n",
       "      <td>0.403034</td>\n",
       "      <td>-0.407193</td>\n",
       "      <td>0.095921</td>\n",
       "      <td>0.592941</td>\n",
       "      <td>-0.270533</td>\n",
       "      <td>0.817739</td>\n",
       "      <td>...</td>\n",
       "      <td>0.408542</td>\n",
       "      <td>-0.009431</td>\n",
       "      <td>0.798278</td>\n",
       "      <td>-0.137458</td>\n",
       "      <td>0.141267</td>\n",
       "      <td>-0.206010</td>\n",
       "      <td>0.502292</td>\n",
       "      <td>0.219422</td>\n",
       "      <td>0.215153</td>\n",
       "      <td>69.99</td>\n",
       "    </tr>\n",
       "  </tbody>\n",
       "</table>\n",
       "<p>5 rows × 30 columns</p>\n",
       "</div>"
      ],
      "text/plain": [
       "   Time        V1        V2        V3        V4        V5        V6        V7  \\\n",
       "0   0.0 -1.359807 -0.072781  2.536347  1.378155 -0.338321  0.462388  0.239599   \n",
       "1   0.0  1.191857  0.266151  0.166480  0.448154  0.060018 -0.082361 -0.078803   \n",
       "2   0.0 -1.358354 -1.340163  1.773209  0.379780 -0.503198  1.800499  0.791461   \n",
       "3   0.0 -0.966272 -0.185226  1.792993 -0.863291 -0.010309  1.247203  0.237609   \n",
       "4   0.0 -1.158233  0.877737  1.548718  0.403034 -0.407193  0.095921  0.592941   \n",
       "\n",
       "         V8        V9  ...       V20       V21       V22       V23       V24  \\\n",
       "0  0.098698  0.363787  ...  0.251412 -0.018307  0.277838 -0.110474  0.066928   \n",
       "1  0.085102 -0.255425  ... -0.069083 -0.225775 -0.638672  0.101288 -0.339846   \n",
       "2  0.247676 -1.514654  ...  0.524980  0.247998  0.771679  0.909412 -0.689281   \n",
       "3  0.377436 -1.387024  ... -0.208038 -0.108300  0.005274 -0.190321 -1.175575   \n",
       "4 -0.270533  0.817739  ...  0.408542 -0.009431  0.798278 -0.137458  0.141267   \n",
       "\n",
       "        V25       V26       V27       V28  Amount  \n",
       "0  0.128539 -0.189115  0.133558 -0.021053  149.62  \n",
       "1  0.167170  0.125895 -0.008983  0.014724    2.69  \n",
       "2 -0.327642 -0.139097 -0.055353 -0.059752  378.66  \n",
       "3  0.647376 -0.221929  0.062723  0.061458  123.50  \n",
       "4 -0.206010  0.502292  0.219422  0.215153   69.99  \n",
       "\n",
       "[5 rows x 30 columns]"
      ]
     },
     "execution_count": 7,
     "metadata": {},
     "output_type": "execute_result"
    }
   ],
   "source": [
    "X.head(5)"
   ]
  },
  {
   "cell_type": "code",
   "execution_count": 6,
   "metadata": {},
   "outputs": [],
   "source": [
    "from sklearn.model_selection import train_test_split, KFold,RandomizedSearchCV,GridSearchCV,cross_val_score\n",
    "from sklearn.linear_model import LogisticRegression \n",
    "#V14, V11, V10, V17, V12If we take the Class column and sort the correlations by magnitude, we see that V17, V14, V12, and V10 rank pretty highly in terms of importance of determining whether a transaction is fraudulent (from a linear perspective)."
   ]
  },
  {
   "cell_type": "code",
   "execution_count": 6,
   "metadata": {},
   "outputs": [],
   "source": [
    "from sklearn.model_selection import train_test_split\n",
    "X_train_ori, X_test_ori, y_train, y_test = train_test_split(X, y, test_size=0.4, random_state=1)"
   ]
  },
  {
   "cell_type": "code",
   "execution_count": 7,
   "metadata": {},
   "outputs": [
    {
     "name": "stdout",
     "output_type": "stream",
     "text": [
      "SMOTE X_train shape: (341156, 30)\n",
      "SMOTE y_train shape: (341156, 1)\n"
     ]
    }
   ],
   "source": [
    "#!pip install imblearn\n",
    "from imblearn.over_sampling import SMOTE \n",
    "#import imblearn\n",
    "k=1 # choosing number of minority classes\n",
    "method = SMOTE(k_neighbors=k, sampling_strategy='auto', random_state = 1)\n",
    "\n",
    "X_train_res, y_train_res = method.fit_sample(X_train_ori, y_train)\n",
    "\n",
    "print(\"SMOTE X_train shape: {}\".format(X_train_res.shape))\n",
    "print(\"SMOTE y_train shape: {}\".format(y_train_res.shape))"
   ]
  },
  {
   "cell_type": "code",
   "execution_count": 8,
   "metadata": {},
   "outputs": [],
   "source": [
    "### SCALING DATA ####\n",
    "from sklearn.preprocessing import RobustScaler\n",
    "scaler = RobustScaler()\n",
    "scaler.fit(X_train_ori)\n",
    "scaler.fit(X_test_ori)\n",
    "X_train = scaler.transform(X_train_ori)\n",
    "X_test = scaler.transform(X_test_ori)\n",
    "\n",
    "### Scaling SMOTE train data as well ####\n",
    "X_train_smote =scaler.transform(X_train_res)\n"
   ]
  },
  {
   "cell_type": "code",
   "execution_count": 9,
   "metadata": {},
   "outputs": [],
   "source": [
    "from sklearn.ensemble import RandomForestClassifier\n",
    "from sklearn.metrics import confusion_matrix\n",
    "from sklearn.metrics import classification_report\n",
    "from sklearn import metrics"
   ]
  },
  {
   "cell_type": "code",
   "execution_count": 21,
   "metadata": {},
   "outputs": [],
   "source": [
    "from sklearn.model_selection import GridSearchCV\n",
    "param_grid = {\n",
    " \"max_depth\":[3,4,5,6], \"max_features\":[\"sqrt\"], \"n_estimators\": (250,300,350,400)\n",
    "}\n",
    "# create Random Forest model\n",
    "rf_obj=RandomForestClassifier(random_state=123)\n",
    "# Create gridsearch object with various combinations of parameters. Use 5 cross-fold and for scoring use \"roc_auc\"\n",
    "rf_Grid = GridSearchCV(rf_obj, param_grid, cv = 5, scoring = 'recall',refit = True, n_jobs=-1, verbose = 5)"
   ]
  },
  {
   "cell_type": "code",
   "execution_count": 22,
   "metadata": {},
   "outputs": [
    {
     "name": "stdout",
     "output_type": "stream",
     "text": [
      "Fitting 5 folds for each of 16 candidates, totalling 80 fits\n"
     ]
    },
    {
     "name": "stderr",
     "output_type": "stream",
     "text": [
      "[Parallel(n_jobs=-1)]: Using backend LokyBackend with 4 concurrent workers.\n",
      "[Parallel(n_jobs=-1)]: Done  10 tasks      | elapsed:  6.5min\n",
      "[Parallel(n_jobs=-1)]: Done  64 tasks      | elapsed: 84.4min\n",
      "[Parallel(n_jobs=-1)]: Done  80 out of  80 | elapsed: 103.2min finished\n",
      "C:\\Users\\p_adu\\Anaconda3\\lib\\site-packages\\sklearn\\model_selection\\_search.py:765: DataConversionWarning: A column-vector y was passed when a 1d array was expected. Please change the shape of y to (n_samples,), for example using ravel().\n",
      "  self.best_estimator_.fit(X, y, **fit_params)\n"
     ]
    },
    {
     "name": "stdout",
     "output_type": "stream",
     "text": [
      "The best parameter values are \n",
      " {'max_depth': 6, 'max_features': 'sqrt', 'n_estimators': 400}\n",
      "the best performing model are \n",
      " RandomForestClassifier(max_depth=6, max_features='sqrt', n_estimators=400,\n",
      "                       random_state=123)\n"
     ]
    }
   ],
   "source": [
    "#Without SMOTE - GRIDSEARCH - IDENTIFYING PARAMETERS\n",
    "results=rf_Grid.fit(X_train,y_train)\n",
    "print(\"The best parameter values are \\n\", results.best_params_)\n",
    "print(\"the best performing model are \\n\",results.best_estimator_)"
   ]
  },
  {
   "cell_type": "code",
   "execution_count": 27,
   "metadata": {},
   "outputs": [
    {
     "name": "stdout",
     "output_type": "stream",
     "text": [
      "Fitting 5 folds for each of 16 candidates, totalling 80 fits\n"
     ]
    },
    {
     "name": "stderr",
     "output_type": "stream",
     "text": [
      "[Parallel(n_jobs=-1)]: Using backend LokyBackend with 4 concurrent workers.\n",
      "[Parallel(n_jobs=-1)]: Done  10 tasks      | elapsed: 24.4min\n",
      "[Parallel(n_jobs=-1)]: Done  64 tasks      | elapsed: 124.8min\n",
      "[Parallel(n_jobs=-1)]: Done  80 out of  80 | elapsed: 164.0min finished\n",
      "C:\\Users\\p_adu\\Anaconda3\\lib\\site-packages\\sklearn\\model_selection\\_search.py:765: DataConversionWarning: A column-vector y was passed when a 1d array was expected. Please change the shape of y to (n_samples,), for example using ravel().\n",
      "  self.best_estimator_.fit(X, y, **fit_params)\n"
     ]
    },
    {
     "name": "stdout",
     "output_type": "stream",
     "text": [
      "The best parameter values are \n",
      " {'max_depth': 6, 'max_features': 'sqrt', 'n_estimators': 250}\n",
      "the best performing model are \n",
      " RandomForestClassifier(max_depth=6, max_features='sqrt', n_estimators=250,\n",
      "                       random_state=123)\n"
     ]
    }
   ],
   "source": [
    "#With SMOTE - GRID SEARCH - IDENTIFYING PARAMETERS\n",
    "results_1=rf_Grid.fit(X_train_smote,y_train_res)\n",
    "print(\"The best parameter values are \\n\", results_1.best_params_)\n",
    "print(\"the best performing model are \\n\",results_1.best_estimator_)"
   ]
  },
  {
   "cell_type": "code",
   "execution_count": 11,
   "metadata": {},
   "outputs": [
    {
     "name": "stderr",
     "output_type": "stream",
     "text": [
      "C:\\Users\\p_adu\\Anaconda3\\lib\\site-packages\\ipykernel_launcher.py:3: DataConversionWarning: A column-vector y was passed when a 1d array was expected. Please change the shape of y to (n_samples,), for example using ravel().\n",
      "  This is separate from the ipykernel package so we can avoid doing imports until\n"
     ]
    }
   ],
   "source": [
    "#With SMOTE DATA - BEST MODEL - GRIDSEARCH HYPER PARAMETERS\n",
    "best_model=RandomForestClassifier(max_depth=6, max_features= 'sqrt', n_estimators=250,random_state=123)\n",
    "best_model_result_train=best_model.fit(X_train_smote,y_train_res)\n"
   ]
  },
  {
   "cell_type": "code",
   "execution_count": null,
   "metadata": {},
   "outputs": [],
   "source": [
    "best_predict_ytest = best_model_result_train.predict(X_test)\n",
    "best_pred_ytest = best_model_result_train.predict_proba(X_test)"
   ]
  },
  {
   "cell_type": "code",
   "execution_count": 12,
   "metadata": {},
   "outputs": [
    {
     "name": "stdout",
     "output_type": "stream",
     "text": [
      "The Confusion matrix for test is \n",
      " [[113397    340]\n",
      " [    28    158]]\n",
      "The Classification table for test is \n",
      "               precision    recall  f1-score   support\n",
      "\n",
      "           0       1.00      1.00      1.00    113737\n",
      "           1       0.32      0.85      0.46       186\n",
      "\n",
      "    accuracy                           1.00    113923\n",
      "   macro avg       0.66      0.92      0.73    113923\n",
      "weighted avg       1.00      1.00      1.00    113923\n",
      "\n"
     ]
    }
   ],
   "source": [
    "print(\"The Confusion matrix for test is \\n\", confusion_matrix(y_test, best_predict_ytest))\n",
    "print(\"The Classification table for test is \\n\", classification_report(y_test,best_predict_ytest))"
   ]
  },
  {
   "cell_type": "code",
   "execution_count": 13,
   "metadata": {},
   "outputs": [],
   "source": [
    "best_predict_ytest = best_model_result_train.predict(X_test_ori)\n",
    "best_pred_ytest = best_model_result_train.predict_proba(X_test_ori)"
   ]
  },
  {
   "cell_type": "code",
   "execution_count": 14,
   "metadata": {},
   "outputs": [
    {
     "name": "stdout",
     "output_type": "stream",
     "text": [
      "The Confusion matrix for test is \n",
      " [[113540    197]\n",
      " [    31    155]]\n",
      "The Classification table for test is \n",
      "               precision    recall  f1-score   support\n",
      "\n",
      "           0       1.00      1.00      1.00    113737\n",
      "           1       0.44      0.83      0.58       186\n",
      "\n",
      "    accuracy                           1.00    113923\n",
      "   macro avg       0.72      0.92      0.79    113923\n",
      "weighted avg       1.00      1.00      1.00    113923\n",
      "\n"
     ]
    }
   ],
   "source": [
    "print(\"The Confusion matrix for test is \\n\", confusion_matrix(y_test, best_predict_ytest))\n",
    "print(\"The Classification table for test is \\n\", classification_report(y_test,best_predict_ytest))"
   ]
  },
  {
   "cell_type": "code",
   "execution_count": 10,
   "metadata": {},
   "outputs": [
    {
     "name": "stderr",
     "output_type": "stream",
     "text": [
      "C:\\Users\\p_adu\\Anaconda3\\lib\\site-packages\\ipykernel_launcher.py:3: DataConversionWarning: A column-vector y was passed when a 1d array was expected. Please change the shape of y to (n_samples,), for example using ravel().\n",
      "  This is separate from the ipykernel package so we can avoid doing imports until\n"
     ]
    }
   ],
   "source": [
    "#Re-running for train and test \n",
    "#With SMOTE DATA - BEST MODEL - GRIDSEARCH HYPER PARAMETERS\n",
    "best_model=RandomForestClassifier(max_depth=6, max_features= 'sqrt', n_estimators=250,random_state=123)\n",
    "best_model_result_train=best_model.fit(X_train_smote,y_train_res)\n",
    "best_predict_ytest = best_model_result_train.predict(X_test)\n",
    "best_pred_ytest = best_model_result_train.predict_proba(X_test)"
   ]
  },
  {
   "cell_type": "code",
   "execution_count": 11,
   "metadata": {},
   "outputs": [
    {
     "name": "stdout",
     "output_type": "stream",
     "text": [
      "The Confusion matrix for test is \n",
      " [[113340    397]\n",
      " [    29    157]]\n",
      "The Classification table for test is \n",
      "               precision    recall  f1-score   support\n",
      "\n",
      "           0       1.00      1.00      1.00    113737\n",
      "           1       0.28      0.84      0.42       186\n",
      "\n",
      "    accuracy                           1.00    113923\n",
      "   macro avg       0.64      0.92      0.71    113923\n",
      "weighted avg       1.00      1.00      1.00    113923\n",
      "\n"
     ]
    }
   ],
   "source": [
    "print(\"The Confusion matrix for test is \\n\", confusion_matrix(y_test, best_predict_ytest))\n",
    "print(\"The Classification table for test is \\n\", classification_report(y_test,best_predict_ytest))"
   ]
  },
  {
   "cell_type": "code",
   "execution_count": 12,
   "metadata": {},
   "outputs": [
    {
     "name": "stderr",
     "output_type": "stream",
     "text": [
      "C:\\Users\\p_adu\\Anaconda3\\lib\\site-packages\\ipykernel_launcher.py:3: DataConversionWarning: A column-vector y was passed when a 1d array was expected. Please change the shape of y to (n_samples,), for example using ravel().\n",
      "  This is separate from the ipykernel package so we can avoid doing imports until\n"
     ]
    }
   ],
   "source": [
    "#Re-running for train and test\n",
    "best_model=RandomForestClassifier(max_depth=6, max_features= 'sqrt', n_estimators=250,random_state=123)\n",
    "best_model_result_train=best_model.fit(X_train_res,y_train_res)\n",
    "best_predict_ytrain = best_model_result_train.predict(X_train)\n",
    "best_pred_ytrain = best_model_result_train.predict_proba(X_train)"
   ]
  },
  {
   "cell_type": "code",
   "execution_count": 15,
   "metadata": {},
   "outputs": [],
   "source": [
    "best_predict_ytrain = best_model_result_train.predict(X_train)\n",
    "best_pred_ytrain = best_model_result_train.predict_proba(X_train)"
   ]
  },
  {
   "cell_type": "code",
   "execution_count": 19,
   "metadata": {},
   "outputs": [],
   "source": [
    "best_predict_ytrain = best_model_result_train.predict(X)\n",
    "best_pred_ytrain = best_model_result_train.predict_proba(X)"
   ]
  },
  {
   "cell_type": "code",
   "execution_count": 20,
   "metadata": {},
   "outputs": [
    {
     "name": "stdout",
     "output_type": "stream",
     "text": [
      "The Confusion matrix for test is \n",
      " [[283843    472]\n",
      " [    71    421]]\n",
      "The Classification table for test is \n",
      "               precision    recall  f1-score   support\n",
      "\n",
      "           0       1.00      1.00      1.00    284315\n",
      "           1       0.47      0.86      0.61       492\n",
      "\n",
      "    accuracy                           1.00    284807\n",
      "   macro avg       0.74      0.93      0.80    284807\n",
      "weighted avg       1.00      1.00      1.00    284807\n",
      "\n"
     ]
    }
   ],
   "source": [
    "print(\"The Confusion matrix for test is \\n\", confusion_matrix(y, best_predict_ytrain))\n",
    "print(\"The Classification table for test is \\n\", classification_report(y,best_predict_ytrain))"
   ]
  },
  {
   "cell_type": "code",
   "execution_count": 17,
   "metadata": {},
   "outputs": [],
   "source": [
    "best_predict_ytrain = best_model_result_train.predict(X_train_ori)\n",
    "best_pred_ytrain = best_model_result_train.predict_proba(X_train_ori)"
   ]
  },
  {
   "cell_type": "code",
   "execution_count": 18,
   "metadata": {},
   "outputs": [
    {
     "name": "stdout",
     "output_type": "stream",
     "text": [
      "The Confusion matrix for test is \n",
      " [[170303    275]\n",
      " [    40    266]]\n",
      "The Classification table for test is \n",
      "               precision    recall  f1-score   support\n",
      "\n",
      "           0       1.00      1.00      1.00    170578\n",
      "           1       0.49      0.87      0.63       306\n",
      "\n",
      "    accuracy                           1.00    170884\n",
      "   macro avg       0.75      0.93      0.81    170884\n",
      "weighted avg       1.00      1.00      1.00    170884\n",
      "\n"
     ]
    }
   ],
   "source": [
    "print(\"The Confusion matrix for test is \\n\", confusion_matrix(y_train, best_predict_ytrain))\n",
    "print(\"The Classification table for test is \\n\", classification_report(y_train,best_predict_ytrain))"
   ]
  },
  {
   "cell_type": "code",
   "execution_count": 13,
   "metadata": {},
   "outputs": [
    {
     "name": "stdout",
     "output_type": "stream",
     "text": [
      "The Confusion matrix for test is \n",
      " [[169969    609]\n",
      " [    34    272]]\n",
      "The Classification table for test is \n",
      "               precision    recall  f1-score   support\n",
      "\n",
      "           0       1.00      1.00      1.00    170578\n",
      "           1       0.31      0.89      0.46       306\n",
      "\n",
      "    accuracy                           1.00    170884\n",
      "   macro avg       0.65      0.94      0.73    170884\n",
      "weighted avg       1.00      1.00      1.00    170884\n",
      "\n"
     ]
    }
   ],
   "source": [
    "print(\"The Confusion matrix for test is \\n\", confusion_matrix(y_train, best_predict_ytrain))\n",
    "print(\"The Classification table for test is \\n\", classification_report(y_train,best_predict_ytrain))"
   ]
  },
  {
   "cell_type": "code",
   "execution_count": 21,
   "metadata": {},
   "outputs": [
    {
     "name": "stderr",
     "output_type": "stream",
     "text": [
      "C:\\Users\\p_adu\\Anaconda3\\lib\\site-packages\\ipykernel_launcher.py:3: DataConversionWarning: A column-vector y was passed when a 1d array was expected. Please change the shape of y to (n_samples,), for example using ravel().\n",
      "  This is separate from the ipykernel package so we can avoid doing imports until\n"
     ]
    }
   ],
   "source": [
    "#WithOUT SMOTE DATA - BEST MODEL - GRIDSEARCH HYPER PARAMETERS\n",
    "best_model_1=RandomForestClassifier(max_depth=6, max_features= 'sqrt', n_estimators=400,random_state=123)\n",
    "best_model_result_train_1=best_model_1.fit(X_train,y_train)\n",
    "best_predict_ytest_1 = best_model_result_train_1.predict(X_test)\n",
    "best_pred_ytest_1 = best_model_result_train_1.predict_proba(X_test)"
   ]
  },
  {
   "cell_type": "code",
   "execution_count": 16,
   "metadata": {},
   "outputs": [
    {
     "name": "stdout",
     "output_type": "stream",
     "text": [
      "The Confusion matrix for test is \n",
      " [[113340    397]\n",
      " [    29    157]]\n",
      "The Classification table for test is \n",
      "               precision    recall  f1-score   support\n",
      "\n",
      "           0       1.00      1.00      1.00    113737\n",
      "           1       0.28      0.84      0.42       186\n",
      "\n",
      "    accuracy                           1.00    113923\n",
      "   macro avg       0.64      0.92      0.71    113923\n",
      "weighted avg       1.00      1.00      1.00    113923\n",
      "\n"
     ]
    }
   ],
   "source": [
    "#With SMOTE DATA - BEST MODEL - GRID SEARCH - FINAL REPORT\n",
    "print(\"The Confusion matrix for test is \\n\", confusion_matrix(y_test, best_predict_ytest))\n",
    "print(\"The Classification table for test is \\n\", classification_report(y_test,best_predict_ytest))\n"
   ]
  },
  {
   "cell_type": "code",
   "execution_count": 24,
   "metadata": {},
   "outputs": [
    {
     "name": "stdout",
     "output_type": "stream",
     "text": [
      "The Confusion matrix for test is \n",
      " [[113725     12]\n",
      " [    55    131]]\n",
      "The Classification table for test is \n",
      "               precision    recall  f1-score   support\n",
      "\n",
      "           0       1.00      1.00      1.00    113737\n",
      "           1       0.92      0.70      0.80       186\n",
      "\n",
      "    accuracy                           1.00    113923\n",
      "   macro avg       0.96      0.85      0.90    113923\n",
      "weighted avg       1.00      1.00      1.00    113923\n",
      "\n"
     ]
    }
   ],
   "source": [
    "#WithOUT SMOTE DATA - BEST MODEL - GRID SEARCH - FINAL REPORT\n",
    "print(\"The Confusion matrix for test is \\n\", confusion_matrix(y_test, best_predict_ytest_1))\n",
    "print(\"The Classification table for test is \\n\", classification_report(y_test,best_predict_ytest_1))\n"
   ]
  },
  {
   "cell_type": "code",
   "execution_count": 30,
   "metadata": {},
   "outputs": [
    {
     "name": "stdout",
     "output_type": "stream",
     "text": [
      "Index(['V26', 'V25', 'V24', 'V22', 'V13', 'V20', 'Time', 'V15', 'V28', 'V23',\n",
      "       'V19', 'V5', 'V1', 'V18', 'V27', 'V21', 'V6', 'V8', 'Amount', 'V2',\n",
      "       'V9', 'V7', 'V16', 'V3', 'V4', 'V17', 'V12', 'V11', 'V10', 'V14'],\n",
      "      dtype='object')\n"
     ]
    }
   ],
   "source": [
    "print((X_test_ori.columns[sorted_indices]))"
   ]
  },
  {
   "cell_type": "code",
   "execution_count": 32,
   "metadata": {},
   "outputs": [
    {
     "name": "stdout",
     "output_type": "stream",
     "text": [
      "Index(['V17', 'V12', 'V11', 'V10', 'V14'], dtype='object')\n"
     ]
    }
   ],
   "source": [
    "print((X_test_ori.columns[sorted_indices][25:30]))"
   ]
  },
  {
   "cell_type": "code",
   "execution_count": 35,
   "metadata": {},
   "outputs": [
    {
     "data": {
      "text/plain": [
       "range(0, 30)"
      ]
     },
     "execution_count": 35,
     "metadata": {},
     "output_type": "execute_result"
    }
   ],
   "source": [
    "y_pos = range(len(rf_importances))\n",
    "y_pos"
   ]
  },
  {
   "cell_type": "code",
   "execution_count": 37,
   "metadata": {},
   "outputs": [
    {
     "data": {
      "image/png": "[encoded data removed]",
      "text/plain": [
       "<Figure size 432x288 with 1 Axes>"
      ]
     },
     "metadata": {
      "needs_background": "light"
     },
     "output_type": "display_data"
    }
   ],
   "source": [
    "import matplotlib.pyplot as plt\n",
    "rf_importances = best_model_result_train.feature_importances_\n",
    "#print(\"As expected, we get an output of\", len(rf_importances), \"variables\")\n",
    "###Create a variable importance plot\n",
    "### rearrange the indices by importance of the specific feature\n",
    "sorted_indices = np.argsort(rf_importances)\n",
    "####create range of 0-29\n",
    "#y_pos = range(len(rf_importances))\n",
    "y_pos=range(0,5)\n",
    "# plotting\n",
    "plt.barh(y_pos, rf_importances[sorted_indices][25:30], align='center')\n",
    "plt.yticks(y_pos,X_test_ori.columns[sorted_indices][25:30])\n",
    "plt.title(\"RF Classifier Variable Importance: Best Model\") # title\n",
    "plt.xlabel(\"Scaled Importance\") #x axis label\n",
    "plt.ylabel(\"Variable\") # y axis label\n",
    "plt.show()"
   ]
  },
  {
   "cell_type": "code",
   "execution_count": 1,
   "metadata": {},
   "outputs": [],
   "source": [
    "#import pickle\n",
    "#loaded_model_Grad = pickle.load(open(\"C:/Users/p_adu/Desktop/GradModelSMOTE.pickle.dat\", \"rb\"))\n",
    "#print(\"Loaded model\")"
   ]
  },
  {
   "cell_type": "code",
   "execution_count": 20,
   "metadata": {},
   "outputs": [
    {
     "data": {
      "image/png": "[encoded data removed]",
      "text/plain": [
       "<Figure size 432x288 with 1 Axes>"
      ]
     },
     "metadata": {
      "needs_background": "light"
     },
     "output_type": "display_data"
    }
   ],
   "source": [
    "#With SMOTE - BEST MODEL FEATURE IMPORTANCE - GRID SEARCH \n",
    "import matplotlib.pyplot as plt\n",
    "rf_importances = best_model_result_train.feature_importances_\n",
    "#print(\"As expected, we get an output of\", len(rf_importances), \"variables\")\n",
    "###Create a variable importance plot\n",
    "### rearrange the indices by importance of the specific feature\n",
    "sorted_indices = np.argsort(rf_importances)\n",
    "####create range of 0-29\n",
    "y_pos = range(len(rf_importances))\n",
    "# plotting\n",
    "plt.barh(y_pos, rf_importances[sorted_indices], align='center')\n",
    "plt.yticks(y_pos,X_test_ori.columns[sorted_indices])\n",
    "plt.title(\"RF Classifier Variable Importance: Best Model\") # title\n",
    "plt.xlabel(\"Scaled Importance\") #x axis label\n",
    "plt.ylabel(\"Variable\") # y axis label\n",
    "plt.show()"
   ]
  },
  {
   "cell_type": "code",
   "execution_count": 22,
   "metadata": {},
   "outputs": [
    {
     "data": {
      "image/png": "[encoded data removed]",
      "text/plain": [
       "<Figure size 432x288 with 1 Axes>"
      ]
     },
     "metadata": {
      "needs_background": "light"
     },
     "output_type": "display_data"
    }
   ],
   "source": [
    "#Without SMOTE - BEST MODEL FEATURE IMPORTANCE - GRID SEARCH \n",
    "rf_importances = best_model_result_train_1.feature_importances_\n",
    "import matplotlib.pyplot as plt\n",
    "#print(\"As expected, we get an output of\", len(rf_importances), \"variables\")\n",
    "###Create a variable importance plot\n",
    "### rearrange the indices by importance of the specific feature\n",
    "sorted_indices = np.argsort(rf_importances)\n",
    "####create range of 0-29\n",
    "y_pos = range(len(rf_importances))\n",
    "# plotting\n",
    "plt.barh(y_pos, rf_importances[sorted_indices], align='center')\n",
    "plt.yticks(y_pos,X_test_ori.columns[sorted_indices])\n",
    "plt.title(\"RF Classifier Variable Importance: Best Model\") # title\n",
    "plt.xlabel(\"Scaled Importance\") #x axis label\n",
    "plt.ylabel(\"Variable\") # y axis label\n",
    "plt.show()"
   ]
  },
  {
   "cell_type": "code",
   "execution_count": 36,
   "metadata": {},
   "outputs": [
    {
     "name": "stdout",
     "output_type": "stream",
     "text": [
      "Fitting 5 folds for each of 10 candidates, totalling 50 fits\n"
     ]
    },
    {
     "name": "stderr",
     "output_type": "stream",
     "text": [
      "[Parallel(n_jobs=-1)]: Using backend LokyBackend with 4 concurrent workers.\n",
      "[Parallel(n_jobs=-1)]: Done  10 tasks      | elapsed: 11.9min\n",
      "[Parallel(n_jobs=-1)]: Done  50 out of  50 | elapsed: 52.4min finished\n",
      "C:\\Users\\p_adu\\Anaconda3\\lib\\site-packages\\sklearn\\model_selection\\_search.py:765: DataConversionWarning: A column-vector y was passed when a 1d array was expected. Please change the shape of y to (n_samples,), for example using ravel().\n",
      "  self.best_estimator_.fit(X, y, **fit_params)\n"
     ]
    },
    {
     "name": "stdout",
     "output_type": "stream",
     "text": [
      "The best parameter values are \n",
      " {'n_estimators': 100, 'max_features': 'sqrt', 'max_depth': 5}\n",
      "the best performing model are \n",
      " RandomForestClassifier(max_depth=5, max_features='sqrt', random_state=123)\n"
     ]
    }
   ],
   "source": [
    "#With SMOTE DATA - RANDOMiZEDCV SEARCH RUN - IDENTIFYING BEST MODEL PARAMETERS\n",
    "results=rf_Grid_2.fit(X_train_res,y_train_res)\n",
    "print(\"The best parameter values are \\n\", results.best_params_)\n",
    "print(\"the best performing model are \\n\",results.best_estimator_)"
   ]
  },
  {
   "cell_type": "code",
   "execution_count": 50,
   "metadata": {},
   "outputs": [
    {
     "name": "stdout",
     "output_type": "stream",
     "text": [
      "Fitting 5 folds for each of 10 candidates, totalling 50 fits\n"
     ]
    },
    {
     "name": "stderr",
     "output_type": "stream",
     "text": [
      "[Parallel(n_jobs=-1)]: Using backend LokyBackend with 4 concurrent workers.\n",
      "[Parallel(n_jobs=-1)]: Done  10 tasks      | elapsed:  4.7min\n",
      "[Parallel(n_jobs=-1)]: Done  50 out of  50 | elapsed: 31.3min finished\n",
      "C:\\Users\\p_adu\\Anaconda3\\lib\\site-packages\\sklearn\\model_selection\\_search.py:765: DataConversionWarning: A column-vector y was passed when a 1d array was expected. Please change the shape of y to (n_samples,), for example using ravel().\n",
      "  self.best_estimator_.fit(X, y, **fit_params)\n"
     ]
    },
    {
     "name": "stdout",
     "output_type": "stream",
     "text": [
      "The best parameter values are \n",
      " {'n_estimators': 250, 'max_features': 'sqrt', 'max_depth': 4}\n",
      "the best performing model are \n",
      " RandomForestClassifier(max_depth=4, max_features='sqrt', n_estimators=250,\n",
      "                       random_state=123)\n"
     ]
    }
   ],
   "source": [
    "#WITHOUT SMOTE DATA - RANDOMIZEDCV SEARCH - IDENTIFYING BEST MODEL PARAMETERS\n",
    "results=rf_Grid_2.fit(X_train,y_train)\n",
    "print(\"The best parameter values are \\n\", results.best_params_)\n",
    "print(\"the best performing model are \\n\",results.best_estimator_)"
   ]
  },
  {
   "cell_type": "code",
   "execution_count": 37,
   "metadata": {},
   "outputs": [
    {
     "name": "stderr",
     "output_type": "stream",
     "text": [
      "C:\\Users\\p_adu\\Anaconda3\\lib\\site-packages\\ipykernel_launcher.py:2: DataConversionWarning: A column-vector y was passed when a 1d array was expected. Please change the shape of y to (n_samples,), for example using ravel().\n",
      "  \n"
     ]
    }
   ],
   "source": [
    "#With SMOTE DATA - RANDOMIZEDCV SEARCH RUN - BEST MODEL RUN\n",
    "best_model=RandomForestClassifier(max_depth=5, max_features= 'sqrt', n_estimators=100,random_state=123)\n",
    "best_model_result_train=best_model.fit(X_train_res,y_train_res)\n",
    "best_predict_ytest = best_model_result_train.predict(X_test)\n",
    "best_pred_ytest = best_model_result_train.predict_proba(X_test)"
   ]
  },
  {
   "cell_type": "code",
   "execution_count": 51,
   "metadata": {},
   "outputs": [
    {
     "name": "stderr",
     "output_type": "stream",
     "text": [
      "C:\\Users\\p_adu\\Anaconda3\\lib\\site-packages\\ipykernel_launcher.py:3: DataConversionWarning: A column-vector y was passed when a 1d array was expected. Please change the shape of y to (n_samples,), for example using ravel().\n",
      "  This is separate from the ipykernel package so we can avoid doing imports until\n"
     ]
    }
   ],
   "source": [
    "#WithOUT SMOTE DATA - RANDOMIZEDCV SEARCH - BEST MODEL RUN\n",
    "best_model_1=RandomForestClassifier(max_depth=4, max_features= 'sqrt', n_estimators=250,random_state=123)\n",
    "best_model_result_train_1=best_model_1.fit(X_train,y_train)\n",
    "best_predict_ytest_1 = best_model_result_train_1.predict(X_test)\n",
    "best_pred_ytest_1 = best_model_result_train_1.predict_proba(X_test)"
   ]
  },
  {
   "cell_type": "code",
   "execution_count": 38,
   "metadata": {},
   "outputs": [
    {
     "name": "stdout",
     "output_type": "stream",
     "text": [
      "The Confusion matrix for test is \n",
      " [[113419    318]\n",
      " [    28    158]]\n",
      "The Classification table for test is \n",
      "               precision    recall  f1-score   support\n",
      "\n",
      "           0       1.00      1.00      1.00    113737\n",
      "           1       0.33      0.85      0.48       186\n",
      "\n",
      "    accuracy                           1.00    113923\n",
      "   macro avg       0.67      0.92      0.74    113923\n",
      "weighted avg       1.00      1.00      1.00    113923\n",
      "\n"
     ]
    }
   ],
   "source": [
    "#With SMOTE DATA - RANDOMIZEDCV SEARCH - FINAL REPORT\n",
    "print(\"The Confusion matrix for test is \\n\", confusion_matrix(y_test, best_predict_ytest_1))\n",
    "print(\"The Classification table for test is \\n\", classification_report(y_test,best_predict_ytest_1))\n"
   ]
  },
  {
   "cell_type": "code",
   "execution_count": 52,
   "metadata": {},
   "outputs": [
    {
     "name": "stdout",
     "output_type": "stream",
     "text": [
      "The Confusion matrix for test is \n",
      " [[113719     18]\n",
      " [    63    123]]\n",
      "The Classification table for test is \n",
      "               precision    recall  f1-score   support\n",
      "\n",
      "           0       1.00      1.00      1.00    113737\n",
      "           1       0.87      0.66      0.75       186\n",
      "\n",
      "    accuracy                           1.00    113923\n",
      "   macro avg       0.94      0.83      0.88    113923\n",
      "weighted avg       1.00      1.00      1.00    113923\n",
      "\n"
     ]
    }
   ],
   "source": [
    "#WithOUT SMOTE DATA - RANDOMIZEDCV SEARCH - FINAL REPORT\n",
    "print(\"The Confusion matrix for test is \\n\", confusion_matrix(y_test, best_predict_ytest_1))\n",
    "print(\"The Classification table for test is \\n\", classification_report(y_test,best_predict_ytest_1))\n"
   ]
  },
  {
   "cell_type": "code",
   "execution_count": 48,
   "metadata": {},
   "outputs": [
    {
     "data": {
      "image/png": "[encoded data removed]",
      "text/plain": [
       "<Figure size 432x288 with 1 Axes>"
      ]
     },
     "metadata": {
      "needs_background": "light"
     },
     "output_type": "display_data"
    }
   ],
   "source": [
    "#With SMOTE - RANDOMIZEDSEARCHCV - FEATURE IMPORTANCE\n",
    "rf_importances = best_model_result_train.feature_importances_\n",
    "#print(\"As expected, we get an output of\", len(rf_importances), \"variables\")\n",
    "###Create a variable importance plot\n",
    "### rearrange the indices by importance of the specific feature\n",
    "sorted_indices = np.argsort(rf_importances)\n",
    "####create range of 0-29\n",
    "y_pos = range(len(rf_importances))\n",
    "# plotting\n",
    "plt.barh(y_pos, rf_importances[sorted_indices], align='center')\n",
    "plt.yticks(y_pos,X_test_ori.columns[sorted_indices])\n",
    "plt.title(\"RF Classifier Variable Importance: Best Model\") # title\n",
    "plt.xlabel(\"Scaled Importance\") #x axis label\n",
    "plt.ylabel(\"Variable\") # y axis label\n",
    "plt.show()"
   ]
  },
  {
   "cell_type": "code",
   "execution_count": 53,
   "metadata": {},
   "outputs": [
    {
     "data": {
      "image/png": "[encoded data removed]",
      "text/plain": [
       "<Figure size 432x288 with 1 Axes>"
      ]
     },
     "metadata": {
      "needs_background": "light"
     },
     "output_type": "display_data"
    }
   ],
   "source": [
    "#Without SMOTE - RANDOMIZEDCV SEARCH - FEATURE IMPORTANCE \n",
    "rf_importances = best_model_result_train_1.feature_importances_\n",
    "#print(\"As expected, we get an output of\", len(rf_importances), \"variables\")\n",
    "###Create a variable importance plot\n",
    "### rearrange the indices by importance of the specific feature\n",
    "sorted_indices = np.argsort(rf_importances)\n",
    "####create range of 0-29\n",
    "y_pos = range(len(rf_importances))\n",
    "# plotting\n",
    "plt.barh(y_pos, rf_importances[sorted_indices], align='center')\n",
    "plt.yticks(y_pos,X_test_ori.columns[sorted_indices])\n",
    "plt.title(\"RF Classifier Variable Importance: Best Model\") # title\n",
    "plt.xlabel(\"Scaled Importance\") #x axis label\n",
    "plt.ylabel(\"Variable\") # y axis label\n",
    "plt.show()"
   ]
  },
  {
   "cell_type": "code",
   "execution_count": null,
   "metadata": {},
   "outputs": [],
   "source": [
    "V17,V12,V14,V11,V10"
   ]
  }
 ],
 "metadata": {
  "kernelspec": {
   "display_name": "Python 3",
   "language": "python",
   "name": "python3"
  },
  "language_info": {
   "codemirror_mode": {
    "name": "ipython",
    "version": 3
   },
   "file_extension": ".py",
   "mimetype": "text/x-python",
   "name": "python",
   "nbconvert_exporter": "python",
   "pygments_lexer": "ipython3",
   "version": "3.7.3"
  }
 },
 "nbformat": 4,
 "nbformat_minor": 4
}
